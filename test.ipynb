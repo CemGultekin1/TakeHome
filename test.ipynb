{
 "cells": [
  {
   "cell_type": "code",
   "execution_count": 1,
   "metadata": {},
   "outputs": [],
   "source": [
    "from bayes_opt import BayesianOptimization, UtilityFunction\n",
    "import os\n",
    "from bayes_opt.logger import JSONLogger\n",
    "from bayes_opt.event import Events\n",
    "from bayes_opt.util import load_logs\n",
    "import numpy as np\n",
    "from xgboost_learning.hyperparam import BayesSearchParams, get_clean_data,param_transform_pairs\n",
    "nfiles = 100\n",
    "ynum = 1\n",
    "random_state = 3\n",
    "\n",
    "df,xcols,_ = get_clean_data(nfiles,ynum)\n",
    "bsp = BayesSearchParams(**param_transform_pairs)\n",
    "params = {\"objective\": \"reg:squarederror\"}\n",
    "optimizer = BayesianOptimization(f = None, \n",
    "                                pbounds = bsp.pbounds, \n",
    "                                verbose = 2, \\\n",
    "                                random_state = random_state,\\\n",
    "                                allow_duplicate_points = True)    \n",
    "\n",
    "params_col = {1:{},2:{}}\n",
    "bayes_logs_dir = 'bayes_logs'\n",
    "files = os.listdir(bayes_logs_dir)\n",
    "for f in files:\n",
    "    try:\n",
    "        ynum  = int(f.split('_')[1].replace('y',''))\n",
    "        random_state  = int(f.split('_')[2].replace('rnd','').replace('.json',''))\n",
    "    except:\n",
    "        continue\n",
    "    optimizer = BayesianOptimization(f = None, pbounds = bsp.pbounds)\n",
    "    log_file = os.path.join(bayes_logs_dir,f)\n",
    "    load_logs(optimizer, logs=[log_file])\n",
    "    logger = JSONLogger(path=log_file,reset=False)\n",
    "    if not params_col[ynum]:\n",
    "        old_target = -np.inf\n",
    "    else:\n",
    "        old_target =  params_col[ynum]['target']\n",
    "    if optimizer.max['target'] > old_target:\n",
    "        params_col[ynum] = optimizer.max\n",
    "        params_col[ynum]['params'] = bsp(**params_col[ynum]['params'])[1]"
   ]
  },
  {
   "cell_type": "code",
   "execution_count": 2,
   "metadata": {},
   "outputs": [
    {
     "data": {
      "text/plain": [
       "{1: {'target': -12.846519612980206,\n",
       "  'params': {'gamma': 109.76270078546494,\n",
       "   'alpha': 0.19549524484259864,\n",
       "   'colsample_bytree': 0.40064836619643945,\n",
       "   'eta': 0.015119336467640998,\n",
       "   'lambda': 0.003482802087028329,\n",
       "   'min_child_weight': 1696,\n",
       "   'subsample': 0.27389695952346965,\n",
       "   'max_depth': 9}},\n",
       " 2: {'target': -17.66452658803987,\n",
       "  'params': {'gamma': 190.27945784656063,\n",
       "   'alpha': 0.04593678963278562,\n",
       "   'colsample_bytree': 0.10365526739751217,\n",
       "   'eta': 0.019677729005806537,\n",
       "   'lambda': 0.023835608729295653,\n",
       "   'min_child_weight': 5,\n",
       "   'subsample': 0.24871673035451514,\n",
       "   'max_depth': 2}}}"
      ]
     },
     "execution_count": 2,
     "metadata": {},
     "output_type": "execute_result"
    }
   ],
   "source": [
    "params_col"
   ]
  },
  {
   "cell_type": "code",
   "execution_count": 21,
   "metadata": {},
   "outputs": [
    {
     "name": "stderr",
     "output_type": "stream",
     "text": [
      "/Users/cemgultekin/Documents/clear-street-markets/.env/lib/python3.9/site-packages/distributed/node.py:182: UserWarning: Port 8787 is already in use.\n",
      "Perhaps you already have a cluster running?\n",
      "Hosting the HTTP server on port 57773 instead\n",
      "  warnings.warn(\n"
     ]
    }
   ],
   "source": [
    "import xgboost as xgb\n",
    "import dask.distributed\n",
    "\n",
    "cluster = dask.distributed.LocalCluster()\n",
    "client = dask.distributed.Client(cluster)"
   ]
  },
  {
   "cell_type": "code",
   "execution_count": 19,
   "metadata": {},
   "outputs": [],
   "source": [
    "ycol = 'Y1'"
   ]
  },
  {
   "cell_type": "code",
   "execution_count": null,
   "metadata": {},
   "outputs": [],
   "source": [
    "dsplit = xgb.dask.DaskDMatrix(client, df[xcols], df[ycol])"
   ]
  }
 ],
 "metadata": {
  "kernelspec": {
   "display_name": ".env",
   "language": "python",
   "name": "python3"
  },
  "language_info": {
   "codemirror_mode": {
    "name": "ipython",
    "version": 3
   },
   "file_extension": ".py",
   "mimetype": "text/x-python",
   "name": "python",
   "nbconvert_exporter": "python",
   "pygments_lexer": "ipython3",
   "version": "3.9.18"
  }
 },
 "nbformat": 4,
 "nbformat_minor": 2
}
