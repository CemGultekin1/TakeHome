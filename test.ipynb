{
 "cells": [
  {
   "cell_type": "code",
   "execution_count": null,
   "metadata": {},
   "outputs": [],
   "source": []
  },
  {
   "cell_type": "code",
   "execution_count": 2,
   "metadata": {},
   "outputs": [],
   "source": []
  },
  {
   "cell_type": "code",
   "execution_count": 3,
   "metadata": {},
   "outputs": [],
   "source": []
  },
  {
   "cell_type": "code",
   "execution_count": 4,
   "metadata": {},
   "outputs": [],
   "source": []
  },
  {
   "cell_type": "code",
   "execution_count": null,
   "metadata": {},
   "outputs": [],
   "source": []
  },
  {
   "cell_type": "code",
   "execution_count": 6,
   "metadata": {},
   "outputs": [
    {
     "name": "stderr",
     "output_type": "stream",
     "text": [
      "[16:41:01] task [xgboost.dask-0]:tcp://127.0.0.1:63591 got new rank 0\n",
      "[16:41:01] task [xgboost.dask-1]:tcp://127.0.0.1:63590 got new rank 1\n",
      "[16:41:01] task [xgboost.dask-2]:tcp://127.0.0.1:63592 got new rank 2\n",
      "[16:41:01] task [xgboost.dask-3]:tcp://127.0.0.1:63598 got new rank 3\n",
      "[16:41:01] task [xgboost.dask-4]:tcp://127.0.0.1:63599 got new rank 4\n"
     ]
    },
    {
     "name": "stdout",
     "output_type": "stream",
     "text": [
      "[0]\tpart_1-rmse:11.35081\tpart_2-rmse:19.47112\n",
      "[1]\tpart_1-rmse:11.52722\tpart_2-rmse:20.10932\n",
      "[2]\tpart_1-rmse:11.84908\tpart_2-rmse:20.20326\n",
      "[3]\tpart_1-rmse:12.01358\tpart_2-rmse:20.29938\n",
      "[4]\tpart_1-rmse:12.09725\tpart_2-rmse:20.39651\n",
      "[5]\tpart_1-rmse:12.13454\tpart_2-rmse:20.60687\n",
      "[6]\tpart_1-rmse:12.22937\tpart_2-rmse:20.76601\n",
      "[7]\tpart_1-rmse:12.40702\tpart_2-rmse:20.80582\n",
      "[8]\tpart_1-rmse:12.45668\tpart_2-rmse:20.82427\n",
      "[9]\tpart_1-rmse:12.49826\tpart_2-rmse:20.94847\n",
      "[10]\tpart_1-rmse:12.56270\tpart_2-rmse:20.99931\n",
      "[11]\tpart_1-rmse:12.65098\tpart_2-rmse:20.98938\n",
      "[12]\tpart_1-rmse:12.67058\tpart_2-rmse:21.00131\n",
      "[13]\tpart_1-rmse:12.67114\tpart_2-rmse:21.01877\n",
      "[14]\tpart_1-rmse:12.67769\tpart_2-rmse:21.06950\n",
      "[15]\tpart_1-rmse:12.72343\tpart_2-rmse:21.11801\n",
      "[16]\tpart_1-rmse:12.76202\tpart_2-rmse:21.14069\n",
      "[17]\tpart_1-rmse:12.77747\tpart_2-rmse:21.16310\n",
      "[18]\tpart_1-rmse:12.85456\tpart_2-rmse:21.20481\n",
      "[19]\tpart_1-rmse:12.86056\tpart_2-rmse:21.20150\n"
     ]
    },
    {
     "name": "stderr",
     "output_type": "stream",
     "text": [
      "[16:41:10] task [xgboost.dask-0]:tcp://127.0.0.1:63591 got new rank 0\n",
      "[16:41:10] task [xgboost.dask-1]:tcp://127.0.0.1:63590 got new rank 1\n",
      "[16:41:10] task [xgboost.dask-2]:tcp://127.0.0.1:63592 got new rank 2\n",
      "[16:41:10] task [xgboost.dask-3]:tcp://127.0.0.1:63598 got new rank 3\n",
      "[16:41:10] task [xgboost.dask-4]:tcp://127.0.0.1:63599 got new rank 4\n"
     ]
    },
    {
     "name": "stdout",
     "output_type": "stream",
     "text": [
      "[0]\tpart_0-rmse:8.46991\tpart_2-rmse:19.93543\n",
      "[1]\tpart_0-rmse:9.13567\tpart_2-rmse:20.41532\n",
      "[2]\tpart_0-rmse:9.21361\tpart_2-rmse:20.90723\n",
      "[3]\tpart_0-rmse:9.53494\tpart_2-rmse:21.19317\n",
      "[4]\tpart_0-rmse:9.72637\tpart_2-rmse:21.35102\n",
      "[5]\tpart_0-rmse:9.93190\tpart_2-rmse:21.55742\n",
      "[6]\tpart_0-rmse:9.98628\tpart_2-rmse:21.62938\n",
      "[7]\tpart_0-rmse:10.12518\tpart_2-rmse:21.71960\n",
      "[8]\tpart_0-rmse:10.19959\tpart_2-rmse:21.77644\n",
      "[9]\tpart_0-rmse:10.29919\tpart_2-rmse:21.93780\n",
      "[10]\tpart_0-rmse:10.38317\tpart_2-rmse:22.02003\n",
      "[11]\tpart_0-rmse:10.45328\tpart_2-rmse:22.04596\n",
      "[12]\tpart_0-rmse:10.56299\tpart_2-rmse:22.12499\n",
      "[13]\tpart_0-rmse:10.57815\tpart_2-rmse:22.12980\n",
      "[14]\tpart_0-rmse:10.63879\tpart_2-rmse:22.16148\n",
      "[15]\tpart_0-rmse:10.75675\tpart_2-rmse:22.20043\n",
      "[16]\tpart_0-rmse:10.82563\tpart_2-rmse:22.24710\n",
      "[17]\tpart_0-rmse:10.85304\tpart_2-rmse:22.28195\n",
      "[18]\tpart_0-rmse:10.86843\tpart_2-rmse:22.32095\n",
      "[19]\tpart_0-rmse:10.88047\tpart_2-rmse:22.34126\n",
      "[20]\tpart_0-rmse:10.90501\tpart_2-rmse:22.41863\n"
     ]
    },
    {
     "name": "stderr",
     "output_type": "stream",
     "text": [
      "[16:41:19] task [xgboost.dask-0]:tcp://127.0.0.1:63591 got new rank 0\n",
      "[16:41:19] task [xgboost.dask-1]:tcp://127.0.0.1:63590 got new rank 1\n",
      "[16:41:19] task [xgboost.dask-2]:tcp://127.0.0.1:63592 got new rank 2\n",
      "[16:41:19] task [xgboost.dask-3]:tcp://127.0.0.1:63598 got new rank 3\n",
      "[16:41:19] task [xgboost.dask-4]:tcp://127.0.0.1:63599 got new rank 4\n"
     ]
    },
    {
     "name": "stdout",
     "output_type": "stream",
     "text": [
      "[0]\tpart_0-rmse:8.31714\tpart_1-rmse:11.46500\n",
      "[1]\tpart_0-rmse:9.57126\tpart_1-rmse:12.80480\n",
      "[2]\tpart_0-rmse:9.70732\tpart_1-rmse:12.80900\n",
      "[3]\tpart_0-rmse:10.30740\tpart_1-rmse:13.16925\n",
      "[4]\tpart_0-rmse:10.38553\tpart_1-rmse:13.24559\n",
      "[5]\tpart_0-rmse:10.68651\tpart_1-rmse:13.53919\n",
      "[6]\tpart_0-rmse:10.93144\tpart_1-rmse:13.75256\n",
      "[7]\tpart_0-rmse:11.21736\tpart_1-rmse:13.88692\n",
      "[8]\tpart_0-rmse:11.44113\tpart_1-rmse:13.99555\n",
      "[9]\tpart_0-rmse:11.57318\tpart_1-rmse:14.07361\n",
      "[10]\tpart_0-rmse:12.00052\tpart_1-rmse:14.38951\n",
      "[11]\tpart_0-rmse:12.07174\tpart_1-rmse:14.48334\n",
      "[12]\tpart_0-rmse:12.27429\tpart_1-rmse:14.54121\n",
      "[13]\tpart_0-rmse:12.47069\tpart_1-rmse:14.67859\n",
      "[14]\tpart_0-rmse:12.51623\tpart_1-rmse:14.71817\n",
      "[15]\tpart_0-rmse:12.56478\tpart_1-rmse:14.77118\n",
      "[16]\tpart_0-rmse:12.78795\tpart_1-rmse:14.92800\n",
      "[17]\tpart_0-rmse:13.03767\tpart_1-rmse:15.22857\n",
      "[18]\tpart_0-rmse:13.10617\tpart_1-rmse:15.31098\n",
      "[19]\tpart_0-rmse:13.28396\tpart_1-rmse:15.55048\n",
      "[20]\tpart_0-rmse:13.32148\tpart_1-rmse:15.60448\n"
     ]
    },
    {
     "name": "stderr",
     "output_type": "stream",
     "text": [
      "[16:41:27] task [xgboost.dask-0]:tcp://127.0.0.1:63591 got new rank 0\n",
      "[16:41:27] task [xgboost.dask-1]:tcp://127.0.0.1:63590 got new rank 1\n",
      "[16:41:27] task [xgboost.dask-2]:tcp://127.0.0.1:63592 got new rank 2\n",
      "[16:41:27] task [xgboost.dask-3]:tcp://127.0.0.1:63598 got new rank 3\n",
      "[16:41:27] task [xgboost.dask-4]:tcp://127.0.0.1:63599 got new rank 4\n"
     ]
    },
    {
     "name": "stdout",
     "output_type": "stream",
     "text": [
      "[0]\tpart_1-rmse:11.18153\tpart_2-rmse:19.24102\n",
      "[1]\tpart_1-rmse:11.18798\tpart_2-rmse:19.23457\n",
      "[2]\tpart_1-rmse:11.21256\tpart_2-rmse:19.19942\n",
      "[3]\tpart_1-rmse:11.21242\tpart_2-rmse:19.23395\n",
      "[4]\tpart_1-rmse:11.21432\tpart_2-rmse:19.23514\n",
      "[5]\tpart_1-rmse:11.22199\tpart_2-rmse:19.23197\n",
      "[6]\tpart_1-rmse:11.21107\tpart_2-rmse:19.23562\n",
      "[7]\tpart_1-rmse:11.22446\tpart_2-rmse:19.25197\n",
      "[8]\tpart_1-rmse:11.23941\tpart_2-rmse:19.25360\n",
      "[9]\tpart_1-rmse:11.24250\tpart_2-rmse:19.26001\n",
      "[10]\tpart_1-rmse:11.25340\tpart_2-rmse:19.25866\n",
      "[11]\tpart_1-rmse:11.24217\tpart_2-rmse:19.26684\n",
      "[12]\tpart_1-rmse:11.27121\tpart_2-rmse:19.26832\n",
      "[13]\tpart_1-rmse:11.26992\tpart_2-rmse:19.27276\n",
      "[14]\tpart_1-rmse:11.27063\tpart_2-rmse:19.27453\n",
      "[15]\tpart_1-rmse:11.26745\tpart_2-rmse:19.27952\n",
      "[16]\tpart_1-rmse:11.28285\tpart_2-rmse:19.29185\n",
      "[17]\tpart_1-rmse:11.27852\tpart_2-rmse:19.29308\n",
      "[18]\tpart_1-rmse:11.27440\tpart_2-rmse:19.29254\n",
      "[19]\tpart_1-rmse:11.28132\tpart_2-rmse:19.29921\n",
      "[20]\tpart_1-rmse:11.27597\tpart_2-rmse:19.31812\n",
      "[21]\tpart_1-rmse:11.27726\tpart_2-rmse:19.31783\n"
     ]
    },
    {
     "name": "stderr",
     "output_type": "stream",
     "text": [
      "[16:41:30] task [xgboost.dask-0]:tcp://127.0.0.1:63591 got new rank 0\n",
      "[16:41:30] task [xgboost.dask-1]:tcp://127.0.0.1:63590 got new rank 1\n",
      "[16:41:30] task [xgboost.dask-2]:tcp://127.0.0.1:63592 got new rank 2\n",
      "[16:41:30] task [xgboost.dask-3]:tcp://127.0.0.1:63598 got new rank 3\n",
      "[16:41:30] task [xgboost.dask-4]:tcp://127.0.0.1:63599 got new rank 4\n"
     ]
    },
    {
     "name": "stdout",
     "output_type": "stream",
     "text": [
      "[0]\tpart_0-rmse:8.17329\tpart_2-rmse:19.33543\n",
      "[1]\tpart_0-rmse:8.20828\tpart_2-rmse:19.38700\n",
      "[2]\tpart_0-rmse:8.21713\tpart_2-rmse:19.44767\n",
      "[3]\tpart_0-rmse:8.21169\tpart_2-rmse:19.46731\n",
      "[4]\tpart_0-rmse:8.20217\tpart_2-rmse:19.46227\n",
      "[5]\tpart_0-rmse:8.21323\tpart_2-rmse:19.47030\n",
      "[6]\tpart_0-rmse:8.21340\tpart_2-rmse:19.49146\n",
      "[7]\tpart_0-rmse:8.21403\tpart_2-rmse:19.52316\n",
      "[8]\tpart_0-rmse:8.19302\tpart_2-rmse:19.49389\n",
      "[9]\tpart_0-rmse:8.20289\tpart_2-rmse:19.51401\n",
      "[10]\tpart_0-rmse:8.21174\tpart_2-rmse:19.51823\n",
      "[11]\tpart_0-rmse:8.23321\tpart_2-rmse:19.56876\n",
      "[12]\tpart_0-rmse:8.22333\tpart_2-rmse:19.57883\n",
      "[13]\tpart_0-rmse:8.21887\tpart_2-rmse:19.56769\n",
      "[14]\tpart_0-rmse:8.23645\tpart_2-rmse:19.61248\n",
      "[15]\tpart_0-rmse:8.24280\tpart_2-rmse:19.61078\n",
      "[16]\tpart_0-rmse:8.24241\tpart_2-rmse:19.62274\n",
      "[17]\tpart_0-rmse:8.22703\tpart_2-rmse:19.61515\n",
      "[18]\tpart_0-rmse:8.24622\tpart_2-rmse:19.66117\n",
      "[19]\tpart_0-rmse:8.24180\tpart_2-rmse:19.66285\n",
      "[20]\tpart_0-rmse:8.24790\tpart_2-rmse:19.68955\n"
     ]
    },
    {
     "name": "stderr",
     "output_type": "stream",
     "text": [
      "[16:41:32] task [xgboost.dask-0]:tcp://127.0.0.1:63591 got new rank 0\n",
      "[16:41:32] task [xgboost.dask-1]:tcp://127.0.0.1:63590 got new rank 1\n",
      "[16:41:32] task [xgboost.dask-2]:tcp://127.0.0.1:63592 got new rank 2\n",
      "[16:41:32] task [xgboost.dask-3]:tcp://127.0.0.1:63598 got new rank 3\n",
      "[16:41:32] task [xgboost.dask-4]:tcp://127.0.0.1:63599 got new rank 4\n"
     ]
    },
    {
     "name": "stdout",
     "output_type": "stream",
     "text": [
      "[0]\tpart_0-rmse:8.04510\tpart_1-rmse:11.23400\n",
      "[1]\tpart_0-rmse:8.05884\tpart_1-rmse:11.19876\n",
      "[2]\tpart_0-rmse:8.04476\tpart_1-rmse:11.20959\n",
      "[3]\tpart_0-rmse:8.05066\tpart_1-rmse:11.20906\n",
      "[4]\tpart_0-rmse:8.06045\tpart_1-rmse:11.21679\n",
      "[5]\tpart_0-rmse:8.07067\tpart_1-rmse:11.21572\n",
      "[6]\tpart_0-rmse:8.06193\tpart_1-rmse:11.22614\n",
      "[7]\tpart_0-rmse:8.06727\tpart_1-rmse:11.22449\n",
      "[8]\tpart_0-rmse:8.07043\tpart_1-rmse:11.20833\n",
      "[9]\tpart_0-rmse:8.06478\tpart_1-rmse:11.21112\n",
      "[10]\tpart_0-rmse:8.07216\tpart_1-rmse:11.21339\n",
      "[11]\tpart_0-rmse:8.07138\tpart_1-rmse:11.21700\n",
      "[12]\tpart_0-rmse:8.07666\tpart_1-rmse:11.22863\n",
      "[13]\tpart_0-rmse:8.07411\tpart_1-rmse:11.23161\n",
      "[14]\tpart_0-rmse:8.07429\tpart_1-rmse:11.22461\n",
      "[15]\tpart_0-rmse:8.08488\tpart_1-rmse:11.22109\n",
      "[16]\tpart_0-rmse:8.08954\tpart_1-rmse:11.22085\n",
      "[17]\tpart_0-rmse:8.08851\tpart_1-rmse:11.22082\n",
      "[18]\tpart_0-rmse:8.09303\tpart_1-rmse:11.21836\n",
      "[19]\tpart_0-rmse:8.10134\tpart_1-rmse:11.23312\n",
      "[20]\tpart_0-rmse:8.10234\tpart_1-rmse:11.22671\n",
      "[21]\tpart_0-rmse:8.10840\tpart_1-rmse:11.22779\n"
     ]
    },
    {
     "name": "stderr",
     "output_type": "stream",
     "text": [
      "[16:41:35] task [xgboost.dask-0]:tcp://127.0.0.1:63591 got new rank 0\n",
      "[16:41:35] task [xgboost.dask-1]:tcp://127.0.0.1:63590 got new rank 1\n",
      "[16:41:35] task [xgboost.dask-2]:tcp://127.0.0.1:63592 got new rank 2\n",
      "[16:41:35] task [xgboost.dask-3]:tcp://127.0.0.1:63598 got new rank 3\n",
      "[16:41:35] task [xgboost.dask-4]:tcp://127.0.0.1:63599 got new rank 4\n"
     ]
    },
    {
     "name": "stdout",
     "output_type": "stream",
     "text": [
      "[0]\tpart_1-rmse:11.19375\tpart_2-rmse:19.22701\n",
      "[1]\tpart_1-rmse:11.24961\tpart_2-rmse:19.25887\n",
      "[2]\tpart_1-rmse:11.27379\tpart_2-rmse:19.32591\n",
      "[3]\tpart_1-rmse:11.27233\tpart_2-rmse:19.47108\n",
      "[4]\tpart_1-rmse:11.32124\tpart_2-rmse:19.52479\n",
      "[5]\tpart_1-rmse:11.36745\tpart_2-rmse:19.55719\n",
      "[6]\tpart_1-rmse:11.38847\tpart_2-rmse:19.60582\n",
      "[7]\tpart_1-rmse:11.41164\tpart_2-rmse:19.66886\n",
      "[8]\tpart_1-rmse:11.41219\tpart_2-rmse:19.69839\n",
      "[9]\tpart_1-rmse:11.43720\tpart_2-rmse:19.71242\n",
      "[10]\tpart_1-rmse:11.44306\tpart_2-rmse:19.75567\n",
      "[11]\tpart_1-rmse:11.46213\tpart_2-rmse:19.80720\n",
      "[12]\tpart_1-rmse:11.46866\tpart_2-rmse:19.83837\n",
      "[13]\tpart_1-rmse:11.49192\tpart_2-rmse:19.90672\n",
      "[14]\tpart_1-rmse:11.52923\tpart_2-rmse:19.98186\n",
      "[15]\tpart_1-rmse:11.53475\tpart_2-rmse:20.02043\n",
      "[16]\tpart_1-rmse:11.56323\tpart_2-rmse:20.04732\n",
      "[17]\tpart_1-rmse:11.56940\tpart_2-rmse:20.09990\n",
      "[18]\tpart_1-rmse:11.58545\tpart_2-rmse:20.11086\n",
      "[19]\tpart_1-rmse:11.59689\tpart_2-rmse:20.13171\n"
     ]
    },
    {
     "name": "stderr",
     "output_type": "stream",
     "text": [
      "[16:41:39] task [xgboost.dask-0]:tcp://127.0.0.1:63591 got new rank 0\n",
      "[16:41:39] task [xgboost.dask-1]:tcp://127.0.0.1:63590 got new rank 1\n",
      "[16:41:39] task [xgboost.dask-2]:tcp://127.0.0.1:63592 got new rank 2\n",
      "[16:41:39] task [xgboost.dask-3]:tcp://127.0.0.1:63598 got new rank 3\n",
      "[16:41:39] task [xgboost.dask-4]:tcp://127.0.0.1:63599 got new rank 4\n"
     ]
    },
    {
     "name": "stdout",
     "output_type": "stream",
     "text": [
      "[0]\tpart_0-rmse:8.16450\tpart_2-rmse:19.35113\n",
      "[1]\tpart_0-rmse:8.23795\tpart_2-rmse:19.54070\n",
      "[2]\tpart_0-rmse:8.32502\tpart_2-rmse:19.74317\n",
      "[3]\tpart_0-rmse:8.37415\tpart_2-rmse:19.86514\n",
      "[4]\tpart_0-rmse:8.37864\tpart_2-rmse:19.94193\n",
      "[5]\tpart_0-rmse:8.40089\tpart_2-rmse:19.97855\n",
      "[6]\tpart_0-rmse:8.43541\tpart_2-rmse:20.00602\n",
      "[7]\tpart_0-rmse:8.41667\tpart_2-rmse:20.10346\n",
      "[8]\tpart_0-rmse:8.45270\tpart_2-rmse:20.18224\n",
      "[9]\tpart_0-rmse:8.48603\tpart_2-rmse:20.21804\n",
      "[10]\tpart_0-rmse:8.53776\tpart_2-rmse:20.26511\n",
      "[11]\tpart_0-rmse:8.58816\tpart_2-rmse:20.28048\n",
      "[12]\tpart_0-rmse:8.62337\tpart_2-rmse:20.30228\n",
      "[13]\tpart_0-rmse:8.61035\tpart_2-rmse:20.38487\n",
      "[14]\tpart_0-rmse:8.67269\tpart_2-rmse:20.45203\n",
      "[15]\tpart_0-rmse:8.69706\tpart_2-rmse:20.53711\n",
      "[16]\tpart_0-rmse:8.70429\tpart_2-rmse:20.54030\n",
      "[17]\tpart_0-rmse:8.72321\tpart_2-rmse:20.53884\n",
      "[18]\tpart_0-rmse:8.73075\tpart_2-rmse:20.57800\n",
      "[19]\tpart_0-rmse:8.76130\tpart_2-rmse:20.62676\n"
     ]
    },
    {
     "name": "stderr",
     "output_type": "stream",
     "text": [
      "[16:41:42] task [xgboost.dask-0]:tcp://127.0.0.1:63591 got new rank 0\n",
      "[16:41:42] task [xgboost.dask-1]:tcp://127.0.0.1:63590 got new rank 1\n",
      "[16:41:42] task [xgboost.dask-2]:tcp://127.0.0.1:63592 got new rank 2\n",
      "[16:41:42] task [xgboost.dask-3]:tcp://127.0.0.1:63598 got new rank 3\n",
      "[16:41:42] task [xgboost.dask-4]:tcp://127.0.0.1:63599 got new rank 4\n"
     ]
    },
    {
     "name": "stdout",
     "output_type": "stream",
     "text": [
      "[0]\tpart_0-rmse:8.05597\tpart_1-rmse:11.21315\n",
      "[1]\tpart_0-rmse:8.07284\tpart_1-rmse:11.21306\n",
      "[2]\tpart_0-rmse:8.11037\tpart_1-rmse:11.21277\n",
      "[3]\tpart_0-rmse:8.11089\tpart_1-rmse:11.21320\n",
      "[4]\tpart_0-rmse:8.20773\tpart_1-rmse:11.27818\n",
      "[5]\tpart_0-rmse:8.24502\tpart_1-rmse:11.30959\n",
      "[6]\tpart_0-rmse:8.25978\tpart_1-rmse:11.31929\n",
      "[7]\tpart_0-rmse:8.31816\tpart_1-rmse:11.38030\n",
      "[8]\tpart_0-rmse:8.34239\tpart_1-rmse:11.36413\n",
      "[9]\tpart_0-rmse:8.36835\tpart_1-rmse:11.40355\n",
      "[10]\tpart_0-rmse:8.43802\tpart_1-rmse:11.43186\n",
      "[11]\tpart_0-rmse:8.45230\tpart_1-rmse:11.44776\n",
      "[12]\tpart_0-rmse:8.47640\tpart_1-rmse:11.47418\n",
      "[13]\tpart_0-rmse:8.47594\tpart_1-rmse:11.48522\n",
      "[14]\tpart_0-rmse:8.54173\tpart_1-rmse:11.59303\n",
      "[15]\tpart_0-rmse:8.54470\tpart_1-rmse:11.61166\n",
      "[16]\tpart_0-rmse:8.57366\tpart_1-rmse:11.69860\n",
      "[17]\tpart_0-rmse:8.61606\tpart_1-rmse:11.79594\n",
      "[18]\tpart_0-rmse:8.70597\tpart_1-rmse:11.87704\n",
      "[19]\tpart_0-rmse:8.77117\tpart_1-rmse:11.95626\n",
      "[20]\tpart_0-rmse:8.84080\tpart_1-rmse:12.00821\n",
      "[21]\tpart_0-rmse:8.85167\tpart_1-rmse:12.01817\n",
      "[22]\tpart_0-rmse:8.88085\tpart_1-rmse:12.04806\n"
     ]
    },
    {
     "name": "stderr",
     "output_type": "stream",
     "text": [
      "[16:41:46] task [xgboost.dask-0]:tcp://127.0.0.1:63591 got new rank 0\n",
      "[16:41:46] task [xgboost.dask-1]:tcp://127.0.0.1:63590 got new rank 1\n",
      "[16:41:46] task [xgboost.dask-2]:tcp://127.0.0.1:63592 got new rank 2\n",
      "[16:41:46] task [xgboost.dask-3]:tcp://127.0.0.1:63598 got new rank 3\n",
      "[16:41:46] task [xgboost.dask-4]:tcp://127.0.0.1:63599 got new rank 4\n"
     ]
    },
    {
     "name": "stdout",
     "output_type": "stream",
     "text": [
      "[0]\tpart_1-rmse:11.40662\tpart_2-rmse:19.49356\n",
      "[1]\tpart_1-rmse:11.60874\tpart_2-rmse:20.11246\n",
      "[2]\tpart_1-rmse:11.82071\tpart_2-rmse:20.40620\n",
      "[3]\tpart_1-rmse:12.02981\tpart_2-rmse:20.55688\n",
      "[4]\tpart_1-rmse:12.19658\tpart_2-rmse:20.68914\n",
      "[5]\tpart_1-rmse:12.30686\tpart_2-rmse:20.76870\n",
      "[6]\tpart_1-rmse:12.54402\tpart_2-rmse:20.98920\n",
      "[7]\tpart_1-rmse:12.60927\tpart_2-rmse:21.03949\n",
      "[8]\tpart_1-rmse:12.69953\tpart_2-rmse:21.14964\n",
      "[9]\tpart_1-rmse:12.75915\tpart_2-rmse:21.18838\n",
      "[10]\tpart_1-rmse:12.81987\tpart_2-rmse:21.25279\n",
      "[11]\tpart_1-rmse:12.86864\tpart_2-rmse:21.30447\n",
      "[12]\tpart_1-rmse:12.89452\tpart_2-rmse:21.35330\n",
      "[13]\tpart_1-rmse:12.89067\tpart_2-rmse:21.34107\n",
      "[14]\tpart_1-rmse:12.90750\tpart_2-rmse:21.35076\n",
      "[15]\tpart_1-rmse:12.92383\tpart_2-rmse:21.37708\n",
      "[16]\tpart_1-rmse:12.91628\tpart_2-rmse:21.38496\n",
      "[17]\tpart_1-rmse:12.90887\tpart_2-rmse:21.41037\n",
      "[18]\tpart_1-rmse:12.92392\tpart_2-rmse:21.40688\n",
      "[19]\tpart_1-rmse:12.93368\tpart_2-rmse:21.41577\n"
     ]
    },
    {
     "name": "stderr",
     "output_type": "stream",
     "text": [
      "[16:42:04] task [xgboost.dask-0]:tcp://127.0.0.1:63591 got new rank 0\n",
      "[16:42:04] task [xgboost.dask-1]:tcp://127.0.0.1:63590 got new rank 1\n",
      "[16:42:04] task [xgboost.dask-2]:tcp://127.0.0.1:63592 got new rank 2\n",
      "[16:42:04] task [xgboost.dask-3]:tcp://127.0.0.1:63598 got new rank 3\n",
      "[16:42:04] task [xgboost.dask-4]:tcp://127.0.0.1:63599 got new rank 4\n"
     ]
    },
    {
     "name": "stdout",
     "output_type": "stream",
     "text": [
      "[0]\tpart_0-rmse:8.42730\tpart_2-rmse:19.89005\n",
      "[1]\tpart_0-rmse:8.85224\tpart_2-rmse:20.44075\n",
      "[2]\tpart_0-rmse:9.02280\tpart_2-rmse:21.17052\n",
      "[3]\tpart_0-rmse:9.33506\tpart_2-rmse:21.42045\n",
      "[4]\tpart_0-rmse:9.55463\tpart_2-rmse:21.71563\n",
      "[5]\tpart_0-rmse:9.81765\tpart_2-rmse:21.83609\n",
      "[6]\tpart_0-rmse:9.97520\tpart_2-rmse:21.95916\n",
      "[7]\tpart_0-rmse:10.13894\tpart_2-rmse:22.01951\n",
      "[8]\tpart_0-rmse:10.19678\tpart_2-rmse:22.15174\n",
      "[9]\tpart_0-rmse:10.36274\tpart_2-rmse:22.26216\n",
      "[10]\tpart_0-rmse:10.50768\tpart_2-rmse:22.25608\n",
      "[11]\tpart_0-rmse:10.56353\tpart_2-rmse:22.30141\n",
      "[12]\tpart_0-rmse:10.65642\tpart_2-rmse:22.36958\n",
      "[13]\tpart_0-rmse:10.72810\tpart_2-rmse:22.36075\n",
      "[14]\tpart_0-rmse:10.75902\tpart_2-rmse:22.43796\n",
      "[15]\tpart_0-rmse:10.81697\tpart_2-rmse:22.57800\n",
      "[16]\tpart_0-rmse:10.85959\tpart_2-rmse:22.63721\n",
      "[17]\tpart_0-rmse:10.87856\tpart_2-rmse:22.66828\n",
      "[18]\tpart_0-rmse:10.91335\tpart_2-rmse:22.66637\n",
      "[19]\tpart_0-rmse:10.96915\tpart_2-rmse:22.69308\n",
      "[20]\tpart_0-rmse:10.99020\tpart_2-rmse:22.64629\n"
     ]
    },
    {
     "name": "stderr",
     "output_type": "stream",
     "text": [
      "[16:42:20] task [xgboost.dask-0]:tcp://127.0.0.1:63591 got new rank 0\n",
      "[16:42:20] task [xgboost.dask-1]:tcp://127.0.0.1:63590 got new rank 1\n",
      "[16:42:20] task [xgboost.dask-2]:tcp://127.0.0.1:63592 got new rank 2\n",
      "[16:42:20] task [xgboost.dask-3]:tcp://127.0.0.1:63598 got new rank 3\n",
      "[16:42:20] task [xgboost.dask-4]:tcp://127.0.0.1:63599 got new rank 4\n"
     ]
    },
    {
     "name": "stdout",
     "output_type": "stream",
     "text": [
      "[0]\tpart_0-rmse:8.34591\tpart_1-rmse:11.51977\n",
      "[1]\tpart_0-rmse:9.39420\tpart_1-rmse:12.76270\n",
      "[2]\tpart_0-rmse:9.80902\tpart_1-rmse:12.91431\n",
      "[3]\tpart_0-rmse:10.18145\tpart_1-rmse:13.18897\n",
      "[4]\tpart_0-rmse:10.76610\tpart_1-rmse:13.70211\n",
      "[5]\tpart_0-rmse:10.80777\tpart_1-rmse:13.89641\n",
      "[6]\tpart_0-rmse:11.55793\tpart_1-rmse:14.32266\n",
      "[7]\tpart_0-rmse:11.57188\tpart_1-rmse:14.31880\n",
      "[8]\tpart_0-rmse:11.75802\tpart_1-rmse:14.56175\n",
      "[9]\tpart_0-rmse:11.92087\tpart_1-rmse:14.81141\n",
      "[10]\tpart_0-rmse:12.14629\tpart_1-rmse:15.05599\n",
      "[11]\tpart_0-rmse:12.25560\tpart_1-rmse:15.18444\n",
      "[12]\tpart_0-rmse:12.56607\tpart_1-rmse:15.38655\n",
      "[13]\tpart_0-rmse:12.75854\tpart_1-rmse:15.58349\n",
      "[14]\tpart_0-rmse:12.78379\tpart_1-rmse:15.59982\n",
      "[15]\tpart_0-rmse:12.78124\tpart_1-rmse:15.64456\n",
      "[16]\tpart_0-rmse:12.84412\tpart_1-rmse:15.67588\n",
      "[17]\tpart_0-rmse:12.88667\tpart_1-rmse:15.71305\n",
      "[18]\tpart_0-rmse:12.92393\tpart_1-rmse:15.71552\n",
      "[19]\tpart_0-rmse:13.04939\tpart_1-rmse:15.85268\n"
     ]
    },
    {
     "name": "stderr",
     "output_type": "stream",
     "text": [
      "[16:42:36] task [xgboost.dask-0]:tcp://127.0.0.1:63591 got new rank 0\n",
      "[16:42:36] task [xgboost.dask-1]:tcp://127.0.0.1:63590 got new rank 1\n",
      "[16:42:36] task [xgboost.dask-2]:tcp://127.0.0.1:63592 got new rank 2\n",
      "[16:42:36] task [xgboost.dask-3]:tcp://127.0.0.1:63598 got new rank 3\n",
      "[16:42:36] task [xgboost.dask-4]:tcp://127.0.0.1:63599 got new rank 4\n"
     ]
    },
    {
     "name": "stdout",
     "output_type": "stream",
     "text": [
      "[0]\tpart_1-rmse:11.18049\tpart_2-rmse:19.21438\n",
      "[1]\tpart_1-rmse:11.18288\tpart_2-rmse:19.22891\n",
      "[2]\tpart_1-rmse:11.18369\tpart_2-rmse:19.24256\n",
      "[3]\tpart_1-rmse:11.18571\tpart_2-rmse:19.23942\n",
      "[4]\tpart_1-rmse:11.19173\tpart_2-rmse:19.24666\n",
      "[5]\tpart_1-rmse:11.19272\tpart_2-rmse:19.24702\n",
      "[6]\tpart_1-rmse:11.19733\tpart_2-rmse:19.24228\n",
      "[7]\tpart_1-rmse:11.19919\tpart_2-rmse:19.24388\n",
      "[8]\tpart_1-rmse:11.20729\tpart_2-rmse:19.22962\n",
      "[9]\tpart_1-rmse:11.20589\tpart_2-rmse:19.22931\n",
      "[10]\tpart_1-rmse:11.21155\tpart_2-rmse:19.22962\n",
      "[11]\tpart_1-rmse:11.21424\tpart_2-rmse:19.22772\n",
      "[12]\tpart_1-rmse:11.21542\tpart_2-rmse:19.23302\n",
      "[13]\tpart_1-rmse:11.21597\tpart_2-rmse:19.24346\n",
      "[14]\tpart_1-rmse:11.21850\tpart_2-rmse:19.24184\n",
      "[15]\tpart_1-rmse:11.21411\tpart_2-rmse:19.24455\n",
      "[16]\tpart_1-rmse:11.21615\tpart_2-rmse:19.25640\n",
      "[17]\tpart_1-rmse:11.22274\tpart_2-rmse:19.25275\n",
      "[18]\tpart_1-rmse:11.23243\tpart_2-rmse:19.25246\n",
      "[19]\tpart_1-rmse:11.23608\tpart_2-rmse:19.24523\n",
      "[20]\tpart_1-rmse:11.23211\tpart_2-rmse:19.24700\n"
     ]
    },
    {
     "name": "stderr",
     "output_type": "stream",
     "text": [
      "[16:42:38] task [xgboost.dask-0]:tcp://127.0.0.1:63591 got new rank 0\n",
      "[16:42:38] task [xgboost.dask-1]:tcp://127.0.0.1:63590 got new rank 1\n",
      "[16:42:38] task [xgboost.dask-2]:tcp://127.0.0.1:63592 got new rank 2\n",
      "[16:42:38] task [xgboost.dask-3]:tcp://127.0.0.1:63598 got new rank 3\n",
      "[16:42:38] task [xgboost.dask-4]:tcp://127.0.0.1:63599 got new rank 4\n"
     ]
    },
    {
     "name": "stdout",
     "output_type": "stream",
     "text": [
      "[0]\tpart_0-rmse:8.15994\tpart_2-rmse:19.28677\n",
      "[1]\tpart_0-rmse:8.16998\tpart_2-rmse:19.30906\n",
      "[2]\tpart_0-rmse:8.17899\tpart_2-rmse:19.32589\n",
      "[3]\tpart_0-rmse:8.18922\tpart_2-rmse:19.35196\n",
      "[4]\tpart_0-rmse:8.19474\tpart_2-rmse:19.36294\n",
      "[5]\tpart_0-rmse:8.20155\tpart_2-rmse:19.39206\n",
      "[6]\tpart_0-rmse:8.20695\tpart_2-rmse:19.40414\n",
      "[7]\tpart_0-rmse:8.21093\tpart_2-rmse:19.42079\n",
      "[8]\tpart_0-rmse:8.21151\tpart_2-rmse:19.44055\n",
      "[9]\tpart_0-rmse:8.21084\tpart_2-rmse:19.44311\n",
      "[10]\tpart_0-rmse:8.21509\tpart_2-rmse:19.44455\n",
      "[11]\tpart_0-rmse:8.22297\tpart_2-rmse:19.46595\n",
      "[12]\tpart_0-rmse:8.21863\tpart_2-rmse:19.46354\n",
      "[13]\tpart_0-rmse:8.21823\tpart_2-rmse:19.46116\n",
      "[14]\tpart_0-rmse:8.22159\tpart_2-rmse:19.46669\n",
      "[15]\tpart_0-rmse:8.21808\tpart_2-rmse:19.46880\n",
      "[16]\tpart_0-rmse:8.21471\tpart_2-rmse:19.46959\n",
      "[17]\tpart_0-rmse:8.21584\tpart_2-rmse:19.48049\n",
      "[18]\tpart_0-rmse:8.22306\tpart_2-rmse:19.49397\n",
      "[19]\tpart_0-rmse:8.22725\tpart_2-rmse:19.50200\n",
      "[20]\tpart_0-rmse:8.23216\tpart_2-rmse:19.50558\n"
     ]
    },
    {
     "name": "stderr",
     "output_type": "stream",
     "text": [
      "[16:42:41] task [xgboost.dask-0]:tcp://127.0.0.1:63591 got new rank 0\n",
      "[16:42:41] task [xgboost.dask-1]:tcp://127.0.0.1:63590 got new rank 1\n",
      "[16:42:41] task [xgboost.dask-2]:tcp://127.0.0.1:63592 got new rank 2\n",
      "[16:42:41] task [xgboost.dask-3]:tcp://127.0.0.1:63598 got new rank 3\n",
      "[16:42:41] task [xgboost.dask-4]:tcp://127.0.0.1:63599 got new rank 4\n"
     ]
    },
    {
     "name": "stdout",
     "output_type": "stream",
     "text": [
      "[0]\tpart_0-rmse:8.04405\tpart_1-rmse:11.22268\n",
      "[1]\tpart_0-rmse:8.04429\tpart_1-rmse:11.22817\n",
      "[2]\tpart_0-rmse:8.03732\tpart_1-rmse:11.23061\n",
      "[3]\tpart_0-rmse:8.04050\tpart_1-rmse:11.21691\n",
      "[4]\tpart_0-rmse:8.04187\tpart_1-rmse:11.22330\n",
      "[5]\tpart_0-rmse:8.04182\tpart_1-rmse:11.21491\n",
      "[6]\tpart_0-rmse:8.03714\tpart_1-rmse:11.21872\n",
      "[7]\tpart_0-rmse:8.04060\tpart_1-rmse:11.22126\n",
      "[8]\tpart_0-rmse:8.04263\tpart_1-rmse:11.22105\n",
      "[9]\tpart_0-rmse:8.04632\tpart_1-rmse:11.22400\n",
      "[10]\tpart_0-rmse:8.05216\tpart_1-rmse:11.21390\n",
      "[11]\tpart_0-rmse:8.05594\tpart_1-rmse:11.21207\n",
      "[12]\tpart_0-rmse:8.05403\tpart_1-rmse:11.21232\n",
      "[13]\tpart_0-rmse:8.04972\tpart_1-rmse:11.21519\n",
      "[14]\tpart_0-rmse:8.05167\tpart_1-rmse:11.21440\n",
      "[15]\tpart_0-rmse:8.05541\tpart_1-rmse:11.21745\n",
      "[16]\tpart_0-rmse:8.05579\tpart_1-rmse:11.21056\n",
      "[17]\tpart_0-rmse:8.05630\tpart_1-rmse:11.21149\n",
      "[18]\tpart_0-rmse:8.05832\tpart_1-rmse:11.21151\n",
      "[19]\tpart_0-rmse:8.06092\tpart_1-rmse:11.21235\n",
      "[20]\tpart_0-rmse:8.05837\tpart_1-rmse:11.21609\n",
      "[21]\tpart_0-rmse:8.06028\tpart_1-rmse:11.21564\n",
      "[22]\tpart_0-rmse:8.06103\tpart_1-rmse:11.21408\n",
      "[23]\tpart_0-rmse:8.06446\tpart_1-rmse:11.21582\n",
      "[24]\tpart_0-rmse:8.06783\tpart_1-rmse:11.21886\n",
      "[25]\tpart_0-rmse:8.06808\tpart_1-rmse:11.21279\n",
      "[26]\tpart_0-rmse:8.06579\tpart_1-rmse:11.21372\n",
      "[27]\tpart_0-rmse:8.06876\tpart_1-rmse:11.21953\n",
      "[28]\tpart_0-rmse:8.07269\tpart_1-rmse:11.21823\n",
      "[29]\tpart_0-rmse:8.07042\tpart_1-rmse:11.22162\n",
      "[30]\tpart_0-rmse:8.07019\tpart_1-rmse:11.22464\n",
      "[31]\tpart_0-rmse:8.06836\tpart_1-rmse:11.22599\n",
      "[32]\tpart_0-rmse:8.07050\tpart_1-rmse:11.23129\n",
      "[33]\tpart_0-rmse:8.07361\tpart_1-rmse:11.23175\n",
      "[34]\tpart_0-rmse:8.07467\tpart_1-rmse:11.23017\n",
      "[35]\tpart_0-rmse:8.07369\tpart_1-rmse:11.23118\n",
      "[36]\tpart_0-rmse:8.07752\tpart_1-rmse:11.23117\n"
     ]
    },
    {
     "name": "stderr",
     "output_type": "stream",
     "text": [
      "[16:42:44] task [xgboost.dask-0]:tcp://127.0.0.1:63591 got new rank 0\n",
      "[16:42:44] task [xgboost.dask-1]:tcp://127.0.0.1:63590 got new rank 1\n",
      "[16:42:44] task [xgboost.dask-2]:tcp://127.0.0.1:63592 got new rank 2\n",
      "[16:42:44] task [xgboost.dask-3]:tcp://127.0.0.1:63598 got new rank 3\n",
      "[16:42:44] task [xgboost.dask-4]:tcp://127.0.0.1:63599 got new rank 4\n"
     ]
    },
    {
     "name": "stdout",
     "output_type": "stream",
     "text": [
      "[0]\tpart_1-rmse:11.26969\tpart_2-rmse:19.57317\n",
      "[1]\tpart_1-rmse:11.33604\tpart_2-rmse:19.53212\n",
      "[2]\tpart_1-rmse:11.38152\tpart_2-rmse:19.62958\n",
      "[3]\tpart_1-rmse:11.38021\tpart_2-rmse:19.63796\n",
      "[4]\tpart_1-rmse:11.46878\tpart_2-rmse:19.75332\n",
      "[5]\tpart_1-rmse:11.58305\tpart_2-rmse:19.79136\n",
      "[6]\tpart_1-rmse:11.56091\tpart_2-rmse:19.93166\n",
      "[7]\tpart_1-rmse:11.56358\tpart_2-rmse:19.87168\n",
      "[8]\tpart_1-rmse:11.60496\tpart_2-rmse:20.00091\n",
      "[9]\tpart_1-rmse:11.63409\tpart_2-rmse:20.03027\n",
      "[10]\tpart_1-rmse:11.67744\tpart_2-rmse:20.37130\n",
      "[11]\tpart_1-rmse:11.61815\tpart_2-rmse:20.16993\n",
      "[12]\tpart_1-rmse:11.76785\tpart_2-rmse:20.23287\n",
      "[13]\tpart_1-rmse:11.68011\tpart_2-rmse:20.19873\n",
      "[14]\tpart_1-rmse:11.75209\tpart_2-rmse:20.36151\n",
      "[15]\tpart_1-rmse:11.76148\tpart_2-rmse:20.47733\n",
      "[16]\tpart_1-rmse:11.74144\tpart_2-rmse:20.39379\n",
      "[17]\tpart_1-rmse:11.74614\tpart_2-rmse:20.52763\n",
      "[18]\tpart_1-rmse:11.77206\tpart_2-rmse:20.50982\n",
      "[19]\tpart_1-rmse:11.79728\tpart_2-rmse:20.50865\n",
      "[20]\tpart_1-rmse:11.81930\tpart_2-rmse:20.77077\n",
      "[21]\tpart_1-rmse:11.84442\tpart_2-rmse:20.72509\n"
     ]
    },
    {
     "name": "stderr",
     "output_type": "stream",
     "text": [
      "[16:42:46] task [xgboost.dask-0]:tcp://127.0.0.1:63591 got new rank 0\n",
      "[16:42:46] task [xgboost.dask-1]:tcp://127.0.0.1:63590 got new rank 1\n",
      "[16:42:46] task [xgboost.dask-2]:tcp://127.0.0.1:63592 got new rank 2\n",
      "[16:42:46] task [xgboost.dask-3]:tcp://127.0.0.1:63598 got new rank 3\n",
      "[16:42:46] task [xgboost.dask-4]:tcp://127.0.0.1:63599 got new rank 4\n"
     ]
    },
    {
     "name": "stdout",
     "output_type": "stream",
     "text": [
      "[0]\tpart_0-rmse:8.36346\tpart_2-rmse:20.31537\n",
      "[1]\tpart_0-rmse:8.36305\tpart_2-rmse:20.37076\n",
      "[2]\tpart_0-rmse:8.49864\tpart_2-rmse:20.46431\n",
      "[3]\tpart_0-rmse:8.59439\tpart_2-rmse:20.65592\n",
      "[4]\tpart_0-rmse:8.82042\tpart_2-rmse:20.85166\n",
      "[5]\tpart_0-rmse:8.68596\tpart_2-rmse:20.84878\n",
      "[6]\tpart_0-rmse:8.77067\tpart_2-rmse:21.07744\n",
      "[7]\tpart_0-rmse:8.78731\tpart_2-rmse:21.24894\n",
      "[8]\tpart_0-rmse:8.76347\tpart_2-rmse:21.29730\n",
      "[9]\tpart_0-rmse:8.83817\tpart_2-rmse:21.59031\n",
      "[10]\tpart_0-rmse:8.86648\tpart_2-rmse:21.61580\n",
      "[11]\tpart_0-rmse:8.85134\tpart_2-rmse:21.60010\n",
      "[12]\tpart_0-rmse:8.89908\tpart_2-rmse:21.73160\n",
      "[13]\tpart_0-rmse:9.07714\tpart_2-rmse:21.98825\n",
      "[14]\tpart_0-rmse:8.99800\tpart_2-rmse:22.02988\n",
      "[15]\tpart_0-rmse:9.05689\tpart_2-rmse:22.09290\n",
      "[16]\tpart_0-rmse:9.15206\tpart_2-rmse:21.93044\n",
      "[17]\tpart_0-rmse:9.18284\tpart_2-rmse:22.07219\n",
      "[18]\tpart_0-rmse:9.18558\tpart_2-rmse:22.13140\n",
      "[19]\tpart_0-rmse:9.25100\tpart_2-rmse:22.19020\n"
     ]
    },
    {
     "name": "stderr",
     "output_type": "stream",
     "text": [
      "[16:42:48] task [xgboost.dask-0]:tcp://127.0.0.1:63591 got new rank 0\n",
      "[16:42:48] task [xgboost.dask-1]:tcp://127.0.0.1:63590 got new rank 1\n",
      "[16:42:48] task [xgboost.dask-2]:tcp://127.0.0.1:63592 got new rank 2\n",
      "[16:42:48] task [xgboost.dask-3]:tcp://127.0.0.1:63598 got new rank 3\n",
      "[16:42:48] task [xgboost.dask-4]:tcp://127.0.0.1:63599 got new rank 4\n"
     ]
    },
    {
     "name": "stdout",
     "output_type": "stream",
     "text": [
      "[0]\tpart_0-rmse:8.11311\tpart_1-rmse:11.41958\n",
      "[1]\tpart_0-rmse:8.16481\tpart_1-rmse:11.36793\n",
      "[2]\tpart_0-rmse:8.23382\tpart_1-rmse:11.46818\n",
      "[3]\tpart_0-rmse:8.28324\tpart_1-rmse:11.48908\n",
      "[4]\tpart_0-rmse:8.45168\tpart_1-rmse:11.51814\n",
      "[5]\tpart_0-rmse:8.60285\tpart_1-rmse:11.69112\n",
      "[6]\tpart_0-rmse:8.60034\tpart_1-rmse:11.69983\n",
      "[7]\tpart_0-rmse:8.61998\tpart_1-rmse:11.67454\n",
      "[8]\tpart_0-rmse:9.04480\tpart_1-rmse:11.90257\n",
      "[9]\tpart_0-rmse:9.04122\tpart_1-rmse:11.89497\n",
      "[10]\tpart_0-rmse:9.06397\tpart_1-rmse:11.87540\n",
      "[11]\tpart_0-rmse:9.05614\tpart_1-rmse:12.18353\n",
      "[12]\tpart_0-rmse:9.12256\tpart_1-rmse:12.10564\n",
      "[13]\tpart_0-rmse:9.20816\tpart_1-rmse:12.11299\n",
      "[14]\tpart_0-rmse:9.25039\tpart_1-rmse:12.20274\n",
      "[15]\tpart_0-rmse:9.29011\tpart_1-rmse:12.27149\n",
      "[16]\tpart_0-rmse:9.37037\tpart_1-rmse:12.23928\n",
      "[17]\tpart_0-rmse:9.49500\tpart_1-rmse:12.33397\n",
      "[18]\tpart_0-rmse:9.49030\tpart_1-rmse:12.35603\n",
      "[19]\tpart_0-rmse:9.75513\tpart_1-rmse:12.55949\n",
      "[20]\tpart_0-rmse:9.75215\tpart_1-rmse:12.50441\n",
      "[21]\tpart_0-rmse:9.56996\tpart_1-rmse:12.50563\n"
     ]
    },
    {
     "name": "stderr",
     "output_type": "stream",
     "text": [
      "[16:42:51] task [xgboost.dask-0]:tcp://127.0.0.1:63591 got new rank 0\n",
      "[16:42:51] task [xgboost.dask-1]:tcp://127.0.0.1:63590 got new rank 1\n",
      "[16:42:51] task [xgboost.dask-2]:tcp://127.0.0.1:63592 got new rank 2\n",
      "[16:42:51] task [xgboost.dask-3]:tcp://127.0.0.1:63598 got new rank 3\n",
      "[16:42:51] task [xgboost.dask-4]:tcp://127.0.0.1:63599 got new rank 4\n"
     ]
    },
    {
     "name": "stdout",
     "output_type": "stream",
     "text": [
      "[0]\tpart_1-rmse:11.18055\tpart_2-rmse:19.22298\n",
      "[1]\tpart_1-rmse:11.18542\tpart_2-rmse:19.24682\n",
      "[2]\tpart_1-rmse:11.18888\tpart_2-rmse:19.24240\n",
      "[3]\tpart_1-rmse:11.19607\tpart_2-rmse:19.23405\n",
      "[4]\tpart_1-rmse:11.19801\tpart_2-rmse:19.23542\n",
      "[5]\tpart_1-rmse:11.21126\tpart_2-rmse:19.21412\n",
      "[6]\tpart_1-rmse:11.21163\tpart_2-rmse:19.23183\n",
      "[7]\tpart_1-rmse:11.22395\tpart_2-rmse:19.23820\n",
      "[8]\tpart_1-rmse:11.22816\tpart_2-rmse:19.23576\n",
      "[9]\tpart_1-rmse:11.23006\tpart_2-rmse:19.24438\n",
      "[10]\tpart_1-rmse:11.23329\tpart_2-rmse:19.23730\n",
      "[11]\tpart_1-rmse:11.22663\tpart_2-rmse:19.24005\n",
      "[12]\tpart_1-rmse:11.24276\tpart_2-rmse:19.23844\n",
      "[13]\tpart_1-rmse:11.24901\tpart_2-rmse:19.22872\n",
      "[14]\tpart_1-rmse:11.25024\tpart_2-rmse:19.23109\n",
      "[15]\tpart_1-rmse:11.26657\tpart_2-rmse:19.23059\n",
      "[16]\tpart_1-rmse:11.26078\tpart_2-rmse:19.23472\n",
      "[17]\tpart_1-rmse:11.27095\tpart_2-rmse:19.23598\n",
      "[18]\tpart_1-rmse:11.27224\tpart_2-rmse:19.24339\n",
      "[19]\tpart_1-rmse:11.27959\tpart_2-rmse:19.23951\n",
      "[20]\tpart_1-rmse:11.27721\tpart_2-rmse:19.23484\n",
      "[21]\tpart_1-rmse:11.29167\tpart_2-rmse:19.23673\n",
      "[22]\tpart_1-rmse:11.29162\tpart_2-rmse:19.23842\n",
      "[23]\tpart_1-rmse:11.28521\tpart_2-rmse:19.24396\n",
      "[24]\tpart_1-rmse:11.28564\tpart_2-rmse:19.26049\n"
     ]
    },
    {
     "name": "stderr",
     "output_type": "stream",
     "text": [
      "[16:42:53] task [xgboost.dask-0]:tcp://127.0.0.1:63591 got new rank 0\n",
      "[16:42:53] task [xgboost.dask-1]:tcp://127.0.0.1:63590 got new rank 1\n",
      "[16:42:53] task [xgboost.dask-2]:tcp://127.0.0.1:63592 got new rank 2\n",
      "[16:42:53] task [xgboost.dask-3]:tcp://127.0.0.1:63598 got new rank 3\n",
      "[16:42:53] task [xgboost.dask-4]:tcp://127.0.0.1:63599 got new rank 4\n"
     ]
    },
    {
     "name": "stdout",
     "output_type": "stream",
     "text": [
      "[0]\tpart_0-rmse:8.16416\tpart_2-rmse:19.30103\n",
      "[1]\tpart_0-rmse:8.18407\tpart_2-rmse:19.32733\n",
      "[2]\tpart_0-rmse:8.19548\tpart_2-rmse:19.37166\n",
      "[3]\tpart_0-rmse:8.20093\tpart_2-rmse:19.40714\n",
      "[4]\tpart_0-rmse:8.21936\tpart_2-rmse:19.43617\n",
      "[5]\tpart_0-rmse:8.21939\tpart_2-rmse:19.45331\n",
      "[6]\tpart_0-rmse:8.21219\tpart_2-rmse:19.44929\n",
      "[7]\tpart_0-rmse:8.21680\tpart_2-rmse:19.45537\n",
      "[8]\tpart_0-rmse:8.22247\tpart_2-rmse:19.46471\n",
      "[9]\tpart_0-rmse:8.23037\tpart_2-rmse:19.47204\n",
      "[10]\tpart_0-rmse:8.22488\tpart_2-rmse:19.48783\n",
      "[11]\tpart_0-rmse:8.23080\tpart_2-rmse:19.49933\n",
      "[12]\tpart_0-rmse:8.22247\tpart_2-rmse:19.48428\n",
      "[13]\tpart_0-rmse:8.23542\tpart_2-rmse:19.50732\n",
      "[14]\tpart_0-rmse:8.23978\tpart_2-rmse:19.51924\n",
      "[15]\tpart_0-rmse:8.24257\tpart_2-rmse:19.51095\n",
      "[16]\tpart_0-rmse:8.25326\tpart_2-rmse:19.53045\n",
      "[17]\tpart_0-rmse:8.23996\tpart_2-rmse:19.52344\n",
      "[18]\tpart_0-rmse:8.24626\tpart_2-rmse:19.55496\n",
      "[19]\tpart_0-rmse:8.24458\tpart_2-rmse:19.55700\n"
     ]
    },
    {
     "name": "stderr",
     "output_type": "stream",
     "text": [
      "[16:42:56] task [xgboost.dask-0]:tcp://127.0.0.1:63591 got new rank 0\n",
      "[16:42:56] task [xgboost.dask-1]:tcp://127.0.0.1:63590 got new rank 1\n",
      "[16:42:56] task [xgboost.dask-2]:tcp://127.0.0.1:63592 got new rank 2\n",
      "[16:42:56] task [xgboost.dask-3]:tcp://127.0.0.1:63598 got new rank 3\n",
      "[16:42:56] task [xgboost.dask-4]:tcp://127.0.0.1:63599 got new rank 4\n"
     ]
    },
    {
     "name": "stdout",
     "output_type": "stream",
     "text": [
      "[0]\tpart_0-rmse:8.04418\tpart_1-rmse:11.22617\n",
      "[1]\tpart_0-rmse:8.03312\tpart_1-rmse:11.23025\n",
      "[2]\tpart_0-rmse:8.03934\tpart_1-rmse:11.20924\n",
      "[3]\tpart_0-rmse:8.04220\tpart_1-rmse:11.21968\n",
      "[4]\tpart_0-rmse:8.04548\tpart_1-rmse:11.21930\n",
      "[5]\tpart_0-rmse:8.05128\tpart_1-rmse:11.22374\n",
      "[6]\tpart_0-rmse:8.05032\tpart_1-rmse:11.21038\n",
      "[7]\tpart_0-rmse:8.05515\tpart_1-rmse:11.20876\n",
      "[8]\tpart_0-rmse:8.06061\tpart_1-rmse:11.20769\n",
      "[9]\tpart_0-rmse:8.05515\tpart_1-rmse:11.21416\n",
      "[10]\tpart_0-rmse:8.06086\tpart_1-rmse:11.21894\n",
      "[11]\tpart_0-rmse:8.06069\tpart_1-rmse:11.20670\n",
      "[12]\tpart_0-rmse:8.06366\tpart_1-rmse:11.20567\n",
      "[13]\tpart_0-rmse:8.05904\tpart_1-rmse:11.21105\n",
      "[14]\tpart_0-rmse:8.06538\tpart_1-rmse:11.21469\n",
      "[15]\tpart_0-rmse:8.06944\tpart_1-rmse:11.21599\n",
      "[16]\tpart_0-rmse:8.06856\tpart_1-rmse:11.21836\n",
      "[17]\tpart_0-rmse:8.06602\tpart_1-rmse:11.21982\n",
      "[18]\tpart_0-rmse:8.07221\tpart_1-rmse:11.21761\n",
      "[19]\tpart_0-rmse:8.06962\tpart_1-rmse:11.21970\n",
      "[20]\tpart_0-rmse:8.06836\tpart_1-rmse:11.21950\n",
      "[21]\tpart_0-rmse:8.07023\tpart_1-rmse:11.22123\n",
      "[22]\tpart_0-rmse:8.07264\tpart_1-rmse:11.22010\n",
      "[23]\tpart_0-rmse:8.07556\tpart_1-rmse:11.22153\n",
      "[24]\tpart_0-rmse:8.07648\tpart_1-rmse:11.22162\n",
      "[25]\tpart_0-rmse:8.07621\tpart_1-rmse:11.21988\n",
      "[26]\tpart_0-rmse:8.07655\tpart_1-rmse:11.21584\n",
      "[27]\tpart_0-rmse:8.07940\tpart_1-rmse:11.21587\n",
      "[28]\tpart_0-rmse:8.08000\tpart_1-rmse:11.21620\n",
      "[29]\tpart_0-rmse:8.07292\tpart_1-rmse:11.23148\n",
      "[30]\tpart_0-rmse:8.08133\tpart_1-rmse:11.23082\n",
      "[31]\tpart_0-rmse:8.08126\tpart_1-rmse:11.23500\n"
     ]
    },
    {
     "name": "stderr",
     "output_type": "stream",
     "text": [
      "[16:42:58] task [xgboost.dask-0]:tcp://127.0.0.1:63591 got new rank 0\n",
      "[16:42:58] task [xgboost.dask-1]:tcp://127.0.0.1:63590 got new rank 1\n",
      "[16:42:58] task [xgboost.dask-2]:tcp://127.0.0.1:63592 got new rank 2\n",
      "[16:42:58] task [xgboost.dask-3]:tcp://127.0.0.1:63598 got new rank 3\n",
      "[16:42:58] task [xgboost.dask-4]:tcp://127.0.0.1:63599 got new rank 4\n"
     ]
    },
    {
     "name": "stdout",
     "output_type": "stream",
     "text": [
      "[0]\tpart_1-rmse:11.18112\tpart_2-rmse:19.20104\n",
      "[1]\tpart_1-rmse:11.18112\tpart_2-rmse:19.20104\n",
      "[2]\tpart_1-rmse:11.18112\tpart_2-rmse:19.20104\n",
      "[3]\tpart_1-rmse:11.18112\tpart_2-rmse:19.20104\n",
      "[4]\tpart_1-rmse:11.18112\tpart_2-rmse:19.20104\n",
      "[5]\tpart_1-rmse:11.18112\tpart_2-rmse:19.20104\n",
      "[6]\tpart_1-rmse:11.18112\tpart_2-rmse:19.20104\n",
      "[7]\tpart_1-rmse:11.18112\tpart_2-rmse:19.20104\n",
      "[8]\tpart_1-rmse:11.18112\tpart_2-rmse:19.20104\n",
      "[9]\tpart_1-rmse:11.18112\tpart_2-rmse:19.20104\n",
      "[10]\tpart_1-rmse:11.18112\tpart_2-rmse:19.20104\n",
      "[11]\tpart_1-rmse:11.18112\tpart_2-rmse:19.20104\n",
      "[12]\tpart_1-rmse:11.18112\tpart_2-rmse:19.20104\n",
      "[13]\tpart_1-rmse:11.18112\tpart_2-rmse:19.20104\n",
      "[14]\tpart_1-rmse:11.18112\tpart_2-rmse:19.20104\n",
      "[15]\tpart_1-rmse:11.18112\tpart_2-rmse:19.20104\n",
      "[16]\tpart_1-rmse:11.18112\tpart_2-rmse:19.20104\n",
      "[17]\tpart_1-rmse:11.18112\tpart_2-rmse:19.20104\n",
      "[18]\tpart_1-rmse:11.18112\tpart_2-rmse:19.20104\n",
      "[19]\tpart_1-rmse:11.18112\tpart_2-rmse:19.20104\n",
      "[20]\tpart_1-rmse:11.18112\tpart_2-rmse:19.20104\n"
     ]
    },
    {
     "name": "stderr",
     "output_type": "stream",
     "text": [
      "[16:43:01] task [xgboost.dask-0]:tcp://127.0.0.1:63591 got new rank 0\n",
      "[16:43:01] task [xgboost.dask-1]:tcp://127.0.0.1:63590 got new rank 1\n",
      "[16:43:01] task [xgboost.dask-2]:tcp://127.0.0.1:63592 got new rank 2\n",
      "[16:43:01] task [xgboost.dask-3]:tcp://127.0.0.1:63598 got new rank 3\n",
      "[16:43:01] task [xgboost.dask-4]:tcp://127.0.0.1:63599 got new rank 4\n"
     ]
    },
    {
     "name": "stdout",
     "output_type": "stream",
     "text": [
      "[0]\tpart_0-rmse:8.15363\tpart_2-rmse:19.26835\n",
      "[1]\tpart_0-rmse:8.15363\tpart_2-rmse:19.26835\n",
      "[2]\tpart_0-rmse:8.15363\tpart_2-rmse:19.26835\n",
      "[3]\tpart_0-rmse:8.15363\tpart_2-rmse:19.26835\n",
      "[4]\tpart_0-rmse:8.15363\tpart_2-rmse:19.26835\n",
      "[5]\tpart_0-rmse:8.15363\tpart_2-rmse:19.26835\n",
      "[6]\tpart_0-rmse:8.15363\tpart_2-rmse:19.26835\n",
      "[7]\tpart_0-rmse:8.15363\tpart_2-rmse:19.26835\n",
      "[8]\tpart_0-rmse:8.15363\tpart_2-rmse:19.26835\n",
      "[9]\tpart_0-rmse:8.15363\tpart_2-rmse:19.26835\n",
      "[10]\tpart_0-rmse:8.15363\tpart_2-rmse:19.26835\n",
      "[11]\tpart_0-rmse:8.15363\tpart_2-rmse:19.26835\n",
      "[12]\tpart_0-rmse:8.15363\tpart_2-rmse:19.26835\n",
      "[13]\tpart_0-rmse:8.15363\tpart_2-rmse:19.26835\n",
      "[14]\tpart_0-rmse:8.15363\tpart_2-rmse:19.26835\n",
      "[15]\tpart_0-rmse:8.15363\tpart_2-rmse:19.26835\n",
      "[16]\tpart_0-rmse:8.15363\tpart_2-rmse:19.26835\n",
      "[17]\tpart_0-rmse:8.15363\tpart_2-rmse:19.26835\n",
      "[18]\tpart_0-rmse:8.15363\tpart_2-rmse:19.26835\n",
      "[19]\tpart_0-rmse:8.15363\tpart_2-rmse:19.26835\n"
     ]
    },
    {
     "name": "stderr",
     "output_type": "stream",
     "text": [
      "[16:43:04] task [xgboost.dask-0]:tcp://127.0.0.1:63591 got new rank 0\n",
      "[16:43:04] task [xgboost.dask-1]:tcp://127.0.0.1:63590 got new rank 1\n",
      "[16:43:04] task [xgboost.dask-2]:tcp://127.0.0.1:63592 got new rank 2\n",
      "[16:43:04] task [xgboost.dask-3]:tcp://127.0.0.1:63598 got new rank 3\n",
      "[16:43:04] task [xgboost.dask-4]:tcp://127.0.0.1:63599 got new rank 4\n"
     ]
    },
    {
     "name": "stdout",
     "output_type": "stream",
     "text": [
      "[0]\tpart_0-rmse:8.04436\tpart_1-rmse:11.21770\n",
      "[1]\tpart_0-rmse:8.04436\tpart_1-rmse:11.21770\n",
      "[2]\tpart_0-rmse:8.04436\tpart_1-rmse:11.21770\n",
      "[3]\tpart_0-rmse:8.04436\tpart_1-rmse:11.21770\n",
      "[4]\tpart_0-rmse:8.04436\tpart_1-rmse:11.21770\n",
      "[5]\tpart_0-rmse:8.04436\tpart_1-rmse:11.21770\n",
      "[6]\tpart_0-rmse:8.04436\tpart_1-rmse:11.21770\n",
      "[7]\tpart_0-rmse:8.04436\tpart_1-rmse:11.21770\n",
      "[8]\tpart_0-rmse:8.04436\tpart_1-rmse:11.21770\n",
      "[9]\tpart_0-rmse:8.04436\tpart_1-rmse:11.21770\n",
      "[10]\tpart_0-rmse:8.04436\tpart_1-rmse:11.21770\n",
      "[11]\tpart_0-rmse:8.04436\tpart_1-rmse:11.21770\n",
      "[12]\tpart_0-rmse:8.04436\tpart_1-rmse:11.21770\n",
      "[13]\tpart_0-rmse:8.04436\tpart_1-rmse:11.21770\n",
      "[14]\tpart_0-rmse:8.04436\tpart_1-rmse:11.21770\n",
      "[15]\tpart_0-rmse:8.04436\tpart_1-rmse:11.21770\n",
      "[16]\tpart_0-rmse:8.04436\tpart_1-rmse:11.21770\n",
      "[17]\tpart_0-rmse:8.04436\tpart_1-rmse:11.21770\n",
      "[18]\tpart_0-rmse:8.04436\tpart_1-rmse:11.21770\n",
      "[19]\tpart_0-rmse:8.04436\tpart_1-rmse:11.21770\n"
     ]
    },
    {
     "name": "stderr",
     "output_type": "stream",
     "text": [
      "[16:43:07] task [xgboost.dask-0]:tcp://127.0.0.1:63591 got new rank 0\n",
      "[16:43:07] task [xgboost.dask-1]:tcp://127.0.0.1:63590 got new rank 1\n",
      "[16:43:07] task [xgboost.dask-2]:tcp://127.0.0.1:63592 got new rank 2\n",
      "[16:43:07] task [xgboost.dask-3]:tcp://127.0.0.1:63598 got new rank 3\n",
      "[16:43:07] task [xgboost.dask-4]:tcp://127.0.0.1:63599 got new rank 4\n"
     ]
    },
    {
     "name": "stdout",
     "output_type": "stream",
     "text": [
      "[0]\tpart_1-rmse:11.33969\tpart_2-rmse:19.61255\n",
      "[1]\tpart_1-rmse:11.69701\tpart_2-rmse:19.87229\n",
      "[2]\tpart_1-rmse:11.69421\tpart_2-rmse:20.02570\n",
      "[3]\tpart_1-rmse:11.79584\tpart_2-rmse:20.39043\n",
      "[4]\tpart_1-rmse:11.76419\tpart_2-rmse:20.50695\n",
      "[5]\tpart_1-rmse:12.02986\tpart_2-rmse:20.70162\n",
      "[6]\tpart_1-rmse:12.12881\tpart_2-rmse:20.79841\n",
      "[7]\tpart_1-rmse:12.31446\tpart_2-rmse:20.84898\n",
      "[8]\tpart_1-rmse:12.33044\tpart_2-rmse:21.00263\n",
      "[9]\tpart_1-rmse:12.52621\tpart_2-rmse:21.30655\n",
      "[10]\tpart_1-rmse:12.67468\tpart_2-rmse:21.90149\n",
      "[11]\tpart_1-rmse:12.71582\tpart_2-rmse:21.90573\n",
      "[12]\tpart_1-rmse:12.77927\tpart_2-rmse:21.93177\n",
      "[13]\tpart_1-rmse:12.80899\tpart_2-rmse:21.90917\n",
      "[14]\tpart_1-rmse:12.84893\tpart_2-rmse:21.93930\n",
      "[15]\tpart_1-rmse:12.90699\tpart_2-rmse:21.94134\n",
      "[16]\tpart_1-rmse:12.90711\tpart_2-rmse:22.04067\n",
      "[17]\tpart_1-rmse:12.94697\tpart_2-rmse:22.04875\n",
      "[18]\tpart_1-rmse:12.98125\tpart_2-rmse:22.00944\n",
      "[19]\tpart_1-rmse:12.93907\tpart_2-rmse:22.03681\n"
     ]
    },
    {
     "name": "stderr",
     "output_type": "stream",
     "text": [
      "[16:43:10] task [xgboost.dask-0]:tcp://127.0.0.1:63591 got new rank 0\n",
      "[16:43:10] task [xgboost.dask-1]:tcp://127.0.0.1:63590 got new rank 1\n",
      "[16:43:10] task [xgboost.dask-2]:tcp://127.0.0.1:63592 got new rank 2\n",
      "[16:43:10] task [xgboost.dask-3]:tcp://127.0.0.1:63598 got new rank 3\n",
      "[16:43:10] task [xgboost.dask-4]:tcp://127.0.0.1:63599 got new rank 4\n"
     ]
    },
    {
     "name": "stdout",
     "output_type": "stream",
     "text": [
      "[0]\tpart_0-rmse:8.53587\tpart_2-rmse:20.62480\n",
      "[1]\tpart_0-rmse:8.83571\tpart_2-rmse:20.84664\n",
      "[2]\tpart_0-rmse:9.33161\tpart_2-rmse:21.87081\n",
      "[3]\tpart_0-rmse:9.36376\tpart_2-rmse:22.13976\n",
      "[4]\tpart_0-rmse:9.61635\tpart_2-rmse:22.31259\n",
      "[5]\tpart_0-rmse:9.80888\tpart_2-rmse:22.66304\n",
      "[6]\tpart_0-rmse:10.01690\tpart_2-rmse:23.08986\n",
      "[7]\tpart_0-rmse:10.17556\tpart_2-rmse:23.89398\n",
      "[8]\tpart_0-rmse:10.13009\tpart_2-rmse:23.59846\n",
      "[9]\tpart_0-rmse:10.09057\tpart_2-rmse:23.75590\n",
      "[10]\tpart_0-rmse:10.40409\tpart_2-rmse:24.07487\n",
      "[11]\tpart_0-rmse:10.48137\tpart_2-rmse:24.17244\n",
      "[12]\tpart_0-rmse:10.54682\tpart_2-rmse:24.11513\n",
      "[13]\tpart_0-rmse:10.65489\tpart_2-rmse:23.88442\n",
      "[14]\tpart_0-rmse:10.68094\tpart_2-rmse:24.06860\n",
      "[15]\tpart_0-rmse:10.66994\tpart_2-rmse:24.30974\n",
      "[16]\tpart_0-rmse:10.77345\tpart_2-rmse:24.28189\n",
      "[17]\tpart_0-rmse:10.81443\tpart_2-rmse:24.50066\n",
      "[18]\tpart_0-rmse:10.93995\tpart_2-rmse:24.77927\n",
      "[19]\tpart_0-rmse:10.97548\tpart_2-rmse:24.82035\n",
      "[20]\tpart_0-rmse:10.92080\tpart_2-rmse:24.77811\n"
     ]
    },
    {
     "name": "stderr",
     "output_type": "stream",
     "text": [
      "[16:43:12] task [xgboost.dask-0]:tcp://127.0.0.1:63591 got new rank 0\n",
      "[16:43:12] task [xgboost.dask-1]:tcp://127.0.0.1:63590 got new rank 1\n",
      "[16:43:12] task [xgboost.dask-2]:tcp://127.0.0.1:63592 got new rank 2\n",
      "[16:43:12] task [xgboost.dask-3]:tcp://127.0.0.1:63598 got new rank 3\n",
      "[16:43:12] task [xgboost.dask-4]:tcp://127.0.0.1:63599 got new rank 4\n"
     ]
    },
    {
     "name": "stdout",
     "output_type": "stream",
     "text": [
      "[0]\tpart_0-rmse:8.22007\tpart_1-rmse:11.34605\n",
      "[1]\tpart_0-rmse:8.56249\tpart_1-rmse:11.55870\n",
      "[2]\tpart_0-rmse:8.81910\tpart_1-rmse:11.53337\n",
      "[3]\tpart_0-rmse:9.46601\tpart_1-rmse:11.98470\n",
      "[4]\tpart_0-rmse:9.88904\tpart_1-rmse:12.46546\n",
      "[5]\tpart_0-rmse:10.07626\tpart_1-rmse:12.80340\n",
      "[6]\tpart_0-rmse:10.21213\tpart_1-rmse:12.88254\n",
      "[7]\tpart_0-rmse:10.47832\tpart_1-rmse:14.15721\n",
      "[8]\tpart_0-rmse:10.81935\tpart_1-rmse:14.50916\n",
      "[9]\tpart_0-rmse:10.88933\tpart_1-rmse:14.56601\n",
      "[10]\tpart_0-rmse:11.14641\tpart_1-rmse:14.66790\n",
      "[11]\tpart_0-rmse:11.19030\tpart_1-rmse:14.60577\n",
      "[12]\tpart_0-rmse:11.55257\tpart_1-rmse:14.98004\n",
      "[13]\tpart_0-rmse:11.67818\tpart_1-rmse:15.05279\n",
      "[14]\tpart_0-rmse:11.74758\tpart_1-rmse:15.07223\n",
      "[15]\tpart_0-rmse:11.78498\tpart_1-rmse:15.12495\n",
      "[16]\tpart_0-rmse:12.44820\tpart_1-rmse:15.73808\n",
      "[17]\tpart_0-rmse:12.55365\tpart_1-rmse:15.86515\n",
      "[18]\tpart_0-rmse:12.66024\tpart_1-rmse:15.91825\n",
      "[19]\tpart_0-rmse:12.67163\tpart_1-rmse:15.91195\n",
      "[20]\tpart_0-rmse:12.68734\tpart_1-rmse:15.93233\n"
     ]
    },
    {
     "name": "stderr",
     "output_type": "stream",
     "text": [
      "[16:43:15] task [xgboost.dask-0]:tcp://127.0.0.1:63591 got new rank 0\n",
      "[16:43:15] task [xgboost.dask-1]:tcp://127.0.0.1:63590 got new rank 1\n",
      "[16:43:15] task [xgboost.dask-2]:tcp://127.0.0.1:63592 got new rank 2\n",
      "[16:43:15] task [xgboost.dask-3]:tcp://127.0.0.1:63598 got new rank 3\n",
      "[16:43:15] task [xgboost.dask-4]:tcp://127.0.0.1:63599 got new rank 4\n"
     ]
    },
    {
     "name": "stdout",
     "output_type": "stream",
     "text": [
      "[0]\tpart_1-rmse:11.18112\tpart_2-rmse:19.20104\n",
      "[1]\tpart_1-rmse:11.18112\tpart_2-rmse:19.20104\n",
      "[2]\tpart_1-rmse:11.18112\tpart_2-rmse:19.20104\n",
      "[3]\tpart_1-rmse:11.18112\tpart_2-rmse:19.20104\n",
      "[4]\tpart_1-rmse:11.18112\tpart_2-rmse:19.20104\n",
      "[5]\tpart_1-rmse:11.18112\tpart_2-rmse:19.20104\n",
      "[6]\tpart_1-rmse:11.18112\tpart_2-rmse:19.20104\n",
      "[7]\tpart_1-rmse:11.18112\tpart_2-rmse:19.20104\n",
      "[8]\tpart_1-rmse:11.18112\tpart_2-rmse:19.20104\n",
      "[9]\tpart_1-rmse:11.18112\tpart_2-rmse:19.20104\n",
      "[10]\tpart_1-rmse:11.18112\tpart_2-rmse:19.20104\n",
      "[11]\tpart_1-rmse:11.18112\tpart_2-rmse:19.20104\n",
      "[12]\tpart_1-rmse:11.18112\tpart_2-rmse:19.20104\n",
      "[13]\tpart_1-rmse:11.18112\tpart_2-rmse:19.20104\n",
      "[14]\tpart_1-rmse:11.18112\tpart_2-rmse:19.20104\n",
      "[15]\tpart_1-rmse:11.18112\tpart_2-rmse:19.20104\n",
      "[16]\tpart_1-rmse:11.18112\tpart_2-rmse:19.20104\n",
      "[17]\tpart_1-rmse:11.18112\tpart_2-rmse:19.20104\n",
      "[18]\tpart_1-rmse:11.18112\tpart_2-rmse:19.20104\n",
      "[19]\tpart_1-rmse:11.18112\tpart_2-rmse:19.20104\n"
     ]
    },
    {
     "name": "stderr",
     "output_type": "stream",
     "text": [
      "[16:43:17] task [xgboost.dask-0]:tcp://127.0.0.1:63591 got new rank 0\n",
      "[16:43:17] task [xgboost.dask-1]:tcp://127.0.0.1:63590 got new rank 1\n",
      "[16:43:17] task [xgboost.dask-2]:tcp://127.0.0.1:63592 got new rank 2\n",
      "[16:43:17] task [xgboost.dask-3]:tcp://127.0.0.1:63598 got new rank 3\n",
      "[16:43:17] task [xgboost.dask-4]:tcp://127.0.0.1:63599 got new rank 4\n"
     ]
    },
    {
     "name": "stdout",
     "output_type": "stream",
     "text": [
      "[0]\tpart_0-rmse:8.15363\tpart_2-rmse:19.26835\n",
      "[1]\tpart_0-rmse:8.15363\tpart_2-rmse:19.26835\n",
      "[2]\tpart_0-rmse:8.15363\tpart_2-rmse:19.26835\n",
      "[3]\tpart_0-rmse:8.15363\tpart_2-rmse:19.26835\n",
      "[4]\tpart_0-rmse:8.15363\tpart_2-rmse:19.26835\n",
      "[5]\tpart_0-rmse:8.15363\tpart_2-rmse:19.26835\n",
      "[6]\tpart_0-rmse:8.15363\tpart_2-rmse:19.26835\n",
      "[7]\tpart_0-rmse:8.15363\tpart_2-rmse:19.26835\n",
      "[8]\tpart_0-rmse:8.15363\tpart_2-rmse:19.26835\n",
      "[9]\tpart_0-rmse:8.15363\tpart_2-rmse:19.26835\n",
      "[10]\tpart_0-rmse:8.15363\tpart_2-rmse:19.26835\n",
      "[11]\tpart_0-rmse:8.15363\tpart_2-rmse:19.26835\n",
      "[12]\tpart_0-rmse:8.15363\tpart_2-rmse:19.26835\n",
      "[13]\tpart_0-rmse:8.15363\tpart_2-rmse:19.26835\n",
      "[14]\tpart_0-rmse:8.15363\tpart_2-rmse:19.26835\n",
      "[15]\tpart_0-rmse:8.15363\tpart_2-rmse:19.26835\n",
      "[16]\tpart_0-rmse:8.15363\tpart_2-rmse:19.26835\n",
      "[17]\tpart_0-rmse:8.15363\tpart_2-rmse:19.26835\n",
      "[18]\tpart_0-rmse:8.15363\tpart_2-rmse:19.26835\n",
      "[19]\tpart_0-rmse:8.15363\tpart_2-rmse:19.26835\n",
      "[20]\tpart_0-rmse:8.15363\tpart_2-rmse:19.26835\n"
     ]
    },
    {
     "name": "stderr",
     "output_type": "stream",
     "text": [
      "[16:43:20] task [xgboost.dask-0]:tcp://127.0.0.1:63591 got new rank 0\n",
      "[16:43:20] task [xgboost.dask-1]:tcp://127.0.0.1:63590 got new rank 1\n",
      "[16:43:20] task [xgboost.dask-2]:tcp://127.0.0.1:63592 got new rank 2\n",
      "[16:43:20] task [xgboost.dask-3]:tcp://127.0.0.1:63598 got new rank 3\n",
      "[16:43:20] task [xgboost.dask-4]:tcp://127.0.0.1:63599 got new rank 4\n"
     ]
    },
    {
     "name": "stdout",
     "output_type": "stream",
     "text": [
      "[0]\tpart_0-rmse:8.04436\tpart_1-rmse:11.21770\n",
      "[1]\tpart_0-rmse:8.04436\tpart_1-rmse:11.21770\n",
      "[2]\tpart_0-rmse:8.04436\tpart_1-rmse:11.21770\n",
      "[3]\tpart_0-rmse:8.04436\tpart_1-rmse:11.21770\n",
      "[4]\tpart_0-rmse:8.04436\tpart_1-rmse:11.21770\n",
      "[5]\tpart_0-rmse:8.04436\tpart_1-rmse:11.21770\n",
      "[6]\tpart_0-rmse:8.04436\tpart_1-rmse:11.21770\n",
      "[7]\tpart_0-rmse:8.04436\tpart_1-rmse:11.21770\n",
      "[8]\tpart_0-rmse:8.04436\tpart_1-rmse:11.21770\n",
      "[9]\tpart_0-rmse:8.04436\tpart_1-rmse:11.21770\n",
      "[10]\tpart_0-rmse:8.04436\tpart_1-rmse:11.21770\n",
      "[11]\tpart_0-rmse:8.04436\tpart_1-rmse:11.21770\n",
      "[12]\tpart_0-rmse:8.04436\tpart_1-rmse:11.21770\n",
      "[13]\tpart_0-rmse:8.04436\tpart_1-rmse:11.21770\n",
      "[14]\tpart_0-rmse:8.04436\tpart_1-rmse:11.21770\n",
      "[15]\tpart_0-rmse:8.04436\tpart_1-rmse:11.21770\n",
      "[16]\tpart_0-rmse:8.04436\tpart_1-rmse:11.21770\n",
      "[17]\tpart_0-rmse:8.04436\tpart_1-rmse:11.21770\n",
      "[18]\tpart_0-rmse:8.04436\tpart_1-rmse:11.21770\n",
      "[19]\tpart_0-rmse:8.04436\tpart_1-rmse:11.21770\n"
     ]
    },
    {
     "name": "stderr",
     "output_type": "stream",
     "text": [
      "[16:43:22] task [xgboost.dask-0]:tcp://127.0.0.1:63591 got new rank 0\n",
      "[16:43:22] task [xgboost.dask-1]:tcp://127.0.0.1:63590 got new rank 1\n",
      "[16:43:22] task [xgboost.dask-2]:tcp://127.0.0.1:63592 got new rank 2\n",
      "[16:43:22] task [xgboost.dask-3]:tcp://127.0.0.1:63598 got new rank 3\n",
      "[16:43:22] task [xgboost.dask-4]:tcp://127.0.0.1:63599 got new rank 4\n"
     ]
    },
    {
     "name": "stdout",
     "output_type": "stream",
     "text": [
      "[0]\tpart_1-rmse:11.33969\tpart_2-rmse:19.61255\n",
      "[1]\tpart_1-rmse:11.69701\tpart_2-rmse:19.87229\n",
      "[2]\tpart_1-rmse:11.69421\tpart_2-rmse:20.02570\n",
      "[3]\tpart_1-rmse:11.79584\tpart_2-rmse:20.39043\n",
      "[4]\tpart_1-rmse:11.76419\tpart_2-rmse:20.50695\n",
      "[5]\tpart_1-rmse:12.02986\tpart_2-rmse:20.70162\n",
      "[6]\tpart_1-rmse:12.12881\tpart_2-rmse:20.79841\n",
      "[7]\tpart_1-rmse:12.31446\tpart_2-rmse:20.84898\n",
      "[8]\tpart_1-rmse:12.33044\tpart_2-rmse:21.00263\n",
      "[9]\tpart_1-rmse:12.52621\tpart_2-rmse:21.30655\n",
      "[10]\tpart_1-rmse:12.67468\tpart_2-rmse:21.90149\n",
      "[11]\tpart_1-rmse:12.71582\tpart_2-rmse:21.90573\n",
      "[12]\tpart_1-rmse:12.77927\tpart_2-rmse:21.93177\n",
      "[13]\tpart_1-rmse:12.80899\tpart_2-rmse:21.90917\n",
      "[14]\tpart_1-rmse:12.84893\tpart_2-rmse:21.93930\n",
      "[15]\tpart_1-rmse:12.90699\tpart_2-rmse:21.94134\n",
      "[16]\tpart_1-rmse:12.90711\tpart_2-rmse:22.04067\n",
      "[17]\tpart_1-rmse:12.94697\tpart_2-rmse:22.04875\n",
      "[18]\tpart_1-rmse:12.98125\tpart_2-rmse:22.00944\n",
      "[19]\tpart_1-rmse:12.93907\tpart_2-rmse:22.03681\n"
     ]
    },
    {
     "name": "stderr",
     "output_type": "stream",
     "text": [
      "[16:43:25] task [xgboost.dask-0]:tcp://127.0.0.1:63591 got new rank 0\n",
      "[16:43:25] task [xgboost.dask-1]:tcp://127.0.0.1:63590 got new rank 1\n",
      "[16:43:25] task [xgboost.dask-2]:tcp://127.0.0.1:63592 got new rank 2\n",
      "[16:43:25] task [xgboost.dask-3]:tcp://127.0.0.1:63598 got new rank 3\n",
      "[16:43:25] task [xgboost.dask-4]:tcp://127.0.0.1:63599 got new rank 4\n"
     ]
    },
    {
     "name": "stdout",
     "output_type": "stream",
     "text": [
      "[0]\tpart_0-rmse:8.53587\tpart_2-rmse:20.62480\n",
      "[1]\tpart_0-rmse:8.83571\tpart_2-rmse:20.84664\n",
      "[2]\tpart_0-rmse:9.33161\tpart_2-rmse:21.87081\n",
      "[3]\tpart_0-rmse:9.36376\tpart_2-rmse:22.13976\n",
      "[4]\tpart_0-rmse:9.61635\tpart_2-rmse:22.31259\n",
      "[5]\tpart_0-rmse:9.80888\tpart_2-rmse:22.66304\n",
      "[6]\tpart_0-rmse:10.01690\tpart_2-rmse:23.08986\n",
      "[7]\tpart_0-rmse:10.17556\tpart_2-rmse:23.89398\n",
      "[8]\tpart_0-rmse:10.13009\tpart_2-rmse:23.59846\n",
      "[9]\tpart_0-rmse:10.09057\tpart_2-rmse:23.75590\n",
      "[10]\tpart_0-rmse:10.40409\tpart_2-rmse:24.07487\n",
      "[11]\tpart_0-rmse:10.48137\tpart_2-rmse:24.17244\n",
      "[12]\tpart_0-rmse:10.54682\tpart_2-rmse:24.11513\n",
      "[13]\tpart_0-rmse:10.65489\tpart_2-rmse:23.88442\n",
      "[14]\tpart_0-rmse:10.68094\tpart_2-rmse:24.06860\n",
      "[15]\tpart_0-rmse:10.66994\tpart_2-rmse:24.30974\n",
      "[16]\tpart_0-rmse:10.77345\tpart_2-rmse:24.28189\n",
      "[17]\tpart_0-rmse:10.81443\tpart_2-rmse:24.50066\n",
      "[18]\tpart_0-rmse:10.93995\tpart_2-rmse:24.77927\n",
      "[19]\tpart_0-rmse:10.97548\tpart_2-rmse:24.82035\n",
      "[20]\tpart_0-rmse:10.92080\tpart_2-rmse:24.77811\n"
     ]
    },
    {
     "name": "stderr",
     "output_type": "stream",
     "text": [
      "[16:43:28] task [xgboost.dask-0]:tcp://127.0.0.1:63591 got new rank 0\n",
      "[16:43:28] task [xgboost.dask-1]:tcp://127.0.0.1:63590 got new rank 1\n",
      "[16:43:28] task [xgboost.dask-2]:tcp://127.0.0.1:63592 got new rank 2\n",
      "[16:43:28] task [xgboost.dask-3]:tcp://127.0.0.1:63598 got new rank 3\n",
      "[16:43:28] task [xgboost.dask-4]:tcp://127.0.0.1:63599 got new rank 4\n"
     ]
    },
    {
     "name": "stdout",
     "output_type": "stream",
     "text": [
      "[0]\tpart_0-rmse:8.22007\tpart_1-rmse:11.34605\n",
      "[1]\tpart_0-rmse:8.56249\tpart_1-rmse:11.55870\n",
      "[2]\tpart_0-rmse:8.81910\tpart_1-rmse:11.53337\n",
      "[3]\tpart_0-rmse:9.46601\tpart_1-rmse:11.98470\n",
      "[4]\tpart_0-rmse:9.88904\tpart_1-rmse:12.46546\n",
      "[5]\tpart_0-rmse:10.07626\tpart_1-rmse:12.80340\n",
      "[6]\tpart_0-rmse:10.21213\tpart_1-rmse:12.88254\n",
      "[7]\tpart_0-rmse:10.47832\tpart_1-rmse:14.15721\n",
      "[8]\tpart_0-rmse:10.81935\tpart_1-rmse:14.50916\n",
      "[9]\tpart_0-rmse:10.88933\tpart_1-rmse:14.56601\n",
      "[10]\tpart_0-rmse:11.14641\tpart_1-rmse:14.66790\n",
      "[11]\tpart_0-rmse:11.19030\tpart_1-rmse:14.60577\n",
      "[12]\tpart_0-rmse:11.55257\tpart_1-rmse:14.98004\n",
      "[13]\tpart_0-rmse:11.67818\tpart_1-rmse:15.05279\n",
      "[14]\tpart_0-rmse:11.74758\tpart_1-rmse:15.07223\n",
      "[15]\tpart_0-rmse:11.78498\tpart_1-rmse:15.12495\n",
      "[16]\tpart_0-rmse:12.44820\tpart_1-rmse:15.73808\n",
      "[17]\tpart_0-rmse:12.55365\tpart_1-rmse:15.86515\n",
      "[18]\tpart_0-rmse:12.66024\tpart_1-rmse:15.91825\n",
      "[19]\tpart_0-rmse:12.67163\tpart_1-rmse:15.91195\n",
      "[20]\tpart_0-rmse:12.68734\tpart_1-rmse:15.93233\n"
     ]
    },
    {
     "name": "stderr",
     "output_type": "stream",
     "text": [
      "[16:43:30] task [xgboost.dask-0]:tcp://127.0.0.1:63591 got new rank 0\n",
      "[16:43:30] task [xgboost.dask-1]:tcp://127.0.0.1:63590 got new rank 1\n",
      "[16:43:30] task [xgboost.dask-2]:tcp://127.0.0.1:63592 got new rank 2\n",
      "[16:43:30] task [xgboost.dask-3]:tcp://127.0.0.1:63598 got new rank 3\n",
      "[16:43:30] task [xgboost.dask-4]:tcp://127.0.0.1:63599 got new rank 4\n"
     ]
    },
    {
     "name": "stdout",
     "output_type": "stream",
     "text": [
      "[0]\tpart_1-rmse:11.18074\tpart_2-rmse:19.22862\n",
      "[1]\tpart_1-rmse:11.19263\tpart_2-rmse:19.24280\n",
      "[2]\tpart_1-rmse:11.19730\tpart_2-rmse:19.23958\n",
      "[3]\tpart_1-rmse:11.20001\tpart_2-rmse:19.24239\n",
      "[4]\tpart_1-rmse:11.19716\tpart_2-rmse:19.24183\n",
      "[5]\tpart_1-rmse:11.21362\tpart_2-rmse:19.21893\n",
      "[6]\tpart_1-rmse:11.21752\tpart_2-rmse:19.22858\n",
      "[7]\tpart_1-rmse:11.22255\tpart_2-rmse:19.22618\n",
      "[8]\tpart_1-rmse:11.22149\tpart_2-rmse:19.23591\n",
      "[9]\tpart_1-rmse:11.24083\tpart_2-rmse:19.23383\n",
      "[10]\tpart_1-rmse:11.23367\tpart_2-rmse:19.24153\n",
      "[11]\tpart_1-rmse:11.24129\tpart_2-rmse:19.23145\n",
      "[12]\tpart_1-rmse:11.24279\tpart_2-rmse:19.23526\n",
      "[13]\tpart_1-rmse:11.25493\tpart_2-rmse:19.23650\n",
      "[14]\tpart_1-rmse:11.27134\tpart_2-rmse:19.23475\n",
      "[15]\tpart_1-rmse:11.26331\tpart_2-rmse:19.23965\n",
      "[16]\tpart_1-rmse:11.26337\tpart_2-rmse:19.24107\n",
      "[17]\tpart_1-rmse:11.26558\tpart_2-rmse:19.25567\n",
      "[18]\tpart_1-rmse:11.26465\tpart_2-rmse:19.25830\n",
      "[19]\tpart_1-rmse:11.27341\tpart_2-rmse:19.25993\n",
      "[20]\tpart_1-rmse:11.29288\tpart_2-rmse:19.26206\n",
      "[21]\tpart_1-rmse:11.29038\tpart_2-rmse:19.26403\n",
      "[22]\tpart_1-rmse:11.29072\tpart_2-rmse:19.28255\n",
      "[23]\tpart_1-rmse:11.28479\tpart_2-rmse:19.28872\n",
      "[24]\tpart_1-rmse:11.27892\tpart_2-rmse:19.28640\n"
     ]
    },
    {
     "name": "stderr",
     "output_type": "stream",
     "text": [
      "[16:43:33] task [xgboost.dask-0]:tcp://127.0.0.1:63591 got new rank 0\n",
      "[16:43:33] task [xgboost.dask-1]:tcp://127.0.0.1:63590 got new rank 1\n",
      "[16:43:33] task [xgboost.dask-2]:tcp://127.0.0.1:63592 got new rank 2\n",
      "[16:43:33] task [xgboost.dask-3]:tcp://127.0.0.1:63598 got new rank 3\n",
      "[16:43:33] task [xgboost.dask-4]:tcp://127.0.0.1:63599 got new rank 4\n"
     ]
    },
    {
     "name": "stdout",
     "output_type": "stream",
     "text": [
      "[0]\tpart_0-rmse:8.16698\tpart_2-rmse:19.31119\n",
      "[1]\tpart_0-rmse:8.19178\tpart_2-rmse:19.34537\n",
      "[2]\tpart_0-rmse:8.19865\tpart_2-rmse:19.38556\n",
      "[3]\tpart_0-rmse:8.21621\tpart_2-rmse:19.42808\n",
      "[4]\tpart_0-rmse:8.22337\tpart_2-rmse:19.46007\n",
      "[5]\tpart_0-rmse:8.21504\tpart_2-rmse:19.45522\n",
      "[6]\tpart_0-rmse:8.21445\tpart_2-rmse:19.46104\n",
      "[7]\tpart_0-rmse:8.22170\tpart_2-rmse:19.47312\n",
      "[8]\tpart_0-rmse:8.22887\tpart_2-rmse:19.48858\n",
      "[9]\tpart_0-rmse:8.24430\tpart_2-rmse:19.51621\n",
      "[10]\tpart_0-rmse:8.24833\tpart_2-rmse:19.53239\n",
      "[11]\tpart_0-rmse:8.25113\tpart_2-rmse:19.52175\n",
      "[12]\tpart_0-rmse:8.26486\tpart_2-rmse:19.54684\n",
      "[13]\tpart_0-rmse:8.26312\tpart_2-rmse:19.56762\n",
      "[14]\tpart_0-rmse:8.25782\tpart_2-rmse:19.58973\n",
      "[15]\tpart_0-rmse:8.25656\tpart_2-rmse:19.59410\n",
      "[16]\tpart_0-rmse:8.25775\tpart_2-rmse:19.59257\n",
      "[17]\tpart_0-rmse:8.27377\tpart_2-rmse:19.63000\n",
      "[18]\tpart_0-rmse:8.26788\tpart_2-rmse:19.62994\n",
      "[19]\tpart_0-rmse:8.27048\tpart_2-rmse:19.62652\n"
     ]
    },
    {
     "name": "stderr",
     "output_type": "stream",
     "text": [
      "[16:43:35] task [xgboost.dask-0]:tcp://127.0.0.1:63591 got new rank 0\n",
      "[16:43:35] task [xgboost.dask-1]:tcp://127.0.0.1:63590 got new rank 1\n",
      "[16:43:35] task [xgboost.dask-2]:tcp://127.0.0.1:63592 got new rank 2\n",
      "[16:43:35] task [xgboost.dask-3]:tcp://127.0.0.1:63598 got new rank 3\n",
      "[16:43:35] task [xgboost.dask-4]:tcp://127.0.0.1:63599 got new rank 4\n"
     ]
    },
    {
     "name": "stdout",
     "output_type": "stream",
     "text": [
      "[0]\tpart_0-rmse:8.04439\tpart_1-rmse:11.22855\n",
      "[1]\tpart_0-rmse:8.03165\tpart_1-rmse:11.23419\n",
      "[2]\tpart_0-rmse:8.04029\tpart_1-rmse:11.20925\n",
      "[3]\tpart_0-rmse:8.04437\tpart_1-rmse:11.20879\n",
      "[4]\tpart_0-rmse:8.05159\tpart_1-rmse:11.21427\n",
      "[5]\tpart_0-rmse:8.05610\tpart_1-rmse:11.22742\n",
      "[6]\tpart_0-rmse:8.05624\tpart_1-rmse:11.21265\n",
      "[7]\tpart_0-rmse:8.06238\tpart_1-rmse:11.21091\n",
      "[8]\tpart_0-rmse:8.06927\tpart_1-rmse:11.20949\n",
      "[9]\tpart_0-rmse:8.06226\tpart_1-rmse:11.21616\n",
      "[10]\tpart_0-rmse:8.06967\tpart_1-rmse:11.22213\n",
      "[11]\tpart_0-rmse:8.07342\tpart_1-rmse:11.22132\n",
      "[12]\tpart_0-rmse:8.07337\tpart_1-rmse:11.22198\n",
      "[13]\tpart_0-rmse:8.07531\tpart_1-rmse:11.23112\n",
      "[14]\tpart_0-rmse:8.08065\tpart_1-rmse:11.23273\n",
      "[15]\tpart_0-rmse:8.07962\tpart_1-rmse:11.23570\n",
      "[16]\tpart_0-rmse:8.07598\tpart_1-rmse:11.23810\n",
      "[17]\tpart_0-rmse:8.07325\tpart_1-rmse:11.24061\n",
      "[18]\tpart_0-rmse:8.07192\tpart_1-rmse:11.24043\n",
      "[19]\tpart_0-rmse:8.07424\tpart_1-rmse:11.22518\n",
      "[20]\tpart_0-rmse:8.08192\tpart_1-rmse:11.22271\n",
      "[21]\tpart_0-rmse:8.08240\tpart_1-rmse:11.21768\n",
      "[22]\tpart_0-rmse:8.08586\tpart_1-rmse:11.21769\n"
     ]
    },
    {
     "name": "stderr",
     "output_type": "stream",
     "text": [
      "[16:43:37] task [xgboost.dask-0]:tcp://127.0.0.1:63591 got new rank 0\n",
      "[16:43:37] task [xgboost.dask-1]:tcp://127.0.0.1:63590 got new rank 1\n",
      "[16:43:37] task [xgboost.dask-2]:tcp://127.0.0.1:63592 got new rank 2\n",
      "[16:43:37] task [xgboost.dask-3]:tcp://127.0.0.1:63598 got new rank 3\n",
      "[16:43:38] task [xgboost.dask-4]:tcp://127.0.0.1:63599 got new rank 4\n"
     ]
    },
    {
     "name": "stdout",
     "output_type": "stream",
     "text": [
      "[0]\tpart_1-rmse:11.18112\tpart_2-rmse:19.20104\n",
      "[1]\tpart_1-rmse:11.18112\tpart_2-rmse:19.20104\n",
      "[2]\tpart_1-rmse:11.18112\tpart_2-rmse:19.20104\n",
      "[3]\tpart_1-rmse:11.18112\tpart_2-rmse:19.20104\n",
      "[4]\tpart_1-rmse:11.18112\tpart_2-rmse:19.20104\n",
      "[5]\tpart_1-rmse:11.18112\tpart_2-rmse:19.20104\n",
      "[6]\tpart_1-rmse:11.18112\tpart_2-rmse:19.20104\n",
      "[7]\tpart_1-rmse:11.18112\tpart_2-rmse:19.20104\n",
      "[8]\tpart_1-rmse:11.18112\tpart_2-rmse:19.20104\n",
      "[9]\tpart_1-rmse:11.18112\tpart_2-rmse:19.20104\n",
      "[10]\tpart_1-rmse:11.18112\tpart_2-rmse:19.20104\n",
      "[11]\tpart_1-rmse:11.18112\tpart_2-rmse:19.20104\n",
      "[12]\tpart_1-rmse:11.18112\tpart_2-rmse:19.20104\n",
      "[13]\tpart_1-rmse:11.18112\tpart_2-rmse:19.20104\n",
      "[14]\tpart_1-rmse:11.18112\tpart_2-rmse:19.20104\n",
      "[15]\tpart_1-rmse:11.18112\tpart_2-rmse:19.20104\n",
      "[16]\tpart_1-rmse:11.18112\tpart_2-rmse:19.20104\n",
      "[17]\tpart_1-rmse:11.18112\tpart_2-rmse:19.20104\n",
      "[18]\tpart_1-rmse:11.18112\tpart_2-rmse:19.20104\n",
      "[19]\tpart_1-rmse:11.18112\tpart_2-rmse:19.20104\n"
     ]
    },
    {
     "name": "stderr",
     "output_type": "stream",
     "text": [
      "[16:43:40] task [xgboost.dask-0]:tcp://127.0.0.1:63591 got new rank 0\n",
      "[16:43:40] task [xgboost.dask-1]:tcp://127.0.0.1:63590 got new rank 1\n",
      "[16:43:40] task [xgboost.dask-2]:tcp://127.0.0.1:63592 got new rank 2\n",
      "[16:43:40] task [xgboost.dask-3]:tcp://127.0.0.1:63598 got new rank 3\n",
      "[16:43:40] task [xgboost.dask-4]:tcp://127.0.0.1:63599 got new rank 4\n"
     ]
    },
    {
     "name": "stdout",
     "output_type": "stream",
     "text": [
      "[0]\tpart_0-rmse:8.15363\tpart_2-rmse:19.26835\n",
      "[1]\tpart_0-rmse:8.15363\tpart_2-rmse:19.26835\n",
      "[2]\tpart_0-rmse:8.15363\tpart_2-rmse:19.26835\n",
      "[3]\tpart_0-rmse:8.15363\tpart_2-rmse:19.26835\n",
      "[4]\tpart_0-rmse:8.15363\tpart_2-rmse:19.26835\n",
      "[5]\tpart_0-rmse:8.15363\tpart_2-rmse:19.26835\n",
      "[6]\tpart_0-rmse:8.15363\tpart_2-rmse:19.26835\n",
      "[7]\tpart_0-rmse:8.15363\tpart_2-rmse:19.26835\n",
      "[8]\tpart_0-rmse:8.15363\tpart_2-rmse:19.26835\n",
      "[9]\tpart_0-rmse:8.15363\tpart_2-rmse:19.26835\n",
      "[10]\tpart_0-rmse:8.15363\tpart_2-rmse:19.26835\n",
      "[11]\tpart_0-rmse:8.15363\tpart_2-rmse:19.26835\n",
      "[12]\tpart_0-rmse:8.15363\tpart_2-rmse:19.26835\n",
      "[13]\tpart_0-rmse:8.15363\tpart_2-rmse:19.26835\n",
      "[14]\tpart_0-rmse:8.15363\tpart_2-rmse:19.26835\n",
      "[15]\tpart_0-rmse:8.15363\tpart_2-rmse:19.26835\n",
      "[16]\tpart_0-rmse:8.15363\tpart_2-rmse:19.26835\n",
      "[17]\tpart_0-rmse:8.15363\tpart_2-rmse:19.26835\n",
      "[18]\tpart_0-rmse:8.15363\tpart_2-rmse:19.26835\n",
      "[19]\tpart_0-rmse:8.15363\tpart_2-rmse:19.26835\n",
      "[20]\tpart_0-rmse:8.15363\tpart_2-rmse:19.26835\n"
     ]
    },
    {
     "name": "stderr",
     "output_type": "stream",
     "text": [
      "[16:43:42] task [xgboost.dask-0]:tcp://127.0.0.1:63591 got new rank 0\n",
      "[16:43:42] task [xgboost.dask-1]:tcp://127.0.0.1:63590 got new rank 1\n",
      "[16:43:42] task [xgboost.dask-2]:tcp://127.0.0.1:63592 got new rank 2\n",
      "[16:43:42] task [xgboost.dask-3]:tcp://127.0.0.1:63598 got new rank 3\n",
      "[16:43:42] task [xgboost.dask-4]:tcp://127.0.0.1:63599 got new rank 4\n"
     ]
    },
    {
     "name": "stdout",
     "output_type": "stream",
     "text": [
      "[0]\tpart_0-rmse:8.04436\tpart_1-rmse:11.21770\n",
      "[1]\tpart_0-rmse:8.04436\tpart_1-rmse:11.21770\n",
      "[2]\tpart_0-rmse:8.04436\tpart_1-rmse:11.21770\n",
      "[3]\tpart_0-rmse:8.04436\tpart_1-rmse:11.21770\n",
      "[4]\tpart_0-rmse:8.04436\tpart_1-rmse:11.21770\n",
      "[5]\tpart_0-rmse:8.04436\tpart_1-rmse:11.21770\n",
      "[6]\tpart_0-rmse:8.04436\tpart_1-rmse:11.21770\n",
      "[7]\tpart_0-rmse:8.04436\tpart_1-rmse:11.21770\n",
      "[8]\tpart_0-rmse:8.04436\tpart_1-rmse:11.21770\n",
      "[9]\tpart_0-rmse:8.04436\tpart_1-rmse:11.21770\n",
      "[10]\tpart_0-rmse:8.04436\tpart_1-rmse:11.21770\n",
      "[11]\tpart_0-rmse:8.04436\tpart_1-rmse:11.21770\n",
      "[12]\tpart_0-rmse:8.04436\tpart_1-rmse:11.21770\n",
      "[13]\tpart_0-rmse:8.04436\tpart_1-rmse:11.21770\n",
      "[14]\tpart_0-rmse:8.04436\tpart_1-rmse:11.21770\n",
      "[15]\tpart_0-rmse:8.04436\tpart_1-rmse:11.21770\n",
      "[16]\tpart_0-rmse:8.04436\tpart_1-rmse:11.21770\n",
      "[17]\tpart_0-rmse:8.04436\tpart_1-rmse:11.21770\n",
      "[18]\tpart_0-rmse:8.04436\tpart_1-rmse:11.21770\n",
      "[19]\tpart_0-rmse:8.04436\tpart_1-rmse:11.21770\n",
      "[20]\tpart_0-rmse:8.04436\tpart_1-rmse:11.21770\n"
     ]
    },
    {
     "name": "stderr",
     "output_type": "stream",
     "text": [
      "[16:43:44] task [xgboost.dask-0]:tcp://127.0.0.1:63591 got new rank 0\n",
      "[16:43:44] task [xgboost.dask-1]:tcp://127.0.0.1:63590 got new rank 1\n",
      "[16:43:44] task [xgboost.dask-2]:tcp://127.0.0.1:63592 got new rank 2\n",
      "[16:43:44] task [xgboost.dask-3]:tcp://127.0.0.1:63598 got new rank 3\n",
      "[16:43:44] task [xgboost.dask-4]:tcp://127.0.0.1:63599 got new rank 4\n"
     ]
    },
    {
     "name": "stdout",
     "output_type": "stream",
     "text": [
      "[0]\tpart_1-rmse:11.18631\tpart_2-rmse:19.21052\n",
      "[1]\tpart_1-rmse:11.18583\tpart_2-rmse:19.22935\n",
      "[2]\tpart_1-rmse:11.18737\tpart_2-rmse:19.23773\n",
      "[3]\tpart_1-rmse:11.19644\tpart_2-rmse:19.25358\n",
      "[4]\tpart_1-rmse:11.20498\tpart_2-rmse:19.25169\n",
      "[5]\tpart_1-rmse:11.20979\tpart_2-rmse:19.25308\n",
      "[6]\tpart_1-rmse:11.20835\tpart_2-rmse:19.25079\n",
      "[7]\tpart_1-rmse:11.20979\tpart_2-rmse:19.25591\n",
      "[8]\tpart_1-rmse:11.21064\tpart_2-rmse:19.25267\n",
      "[9]\tpart_1-rmse:11.21740\tpart_2-rmse:19.25696\n",
      "[10]\tpart_1-rmse:11.22534\tpart_2-rmse:19.25427\n",
      "[11]\tpart_1-rmse:11.22793\tpart_2-rmse:19.25870\n",
      "[12]\tpart_1-rmse:11.24761\tpart_2-rmse:19.25086\n",
      "[13]\tpart_1-rmse:11.25483\tpart_2-rmse:19.25492\n",
      "[14]\tpart_1-rmse:11.25650\tpart_2-rmse:19.26170\n",
      "[15]\tpart_1-rmse:11.26119\tpart_2-rmse:19.25890\n",
      "[16]\tpart_1-rmse:11.26231\tpart_2-rmse:19.25639\n",
      "[17]\tpart_1-rmse:11.28139\tpart_2-rmse:19.25173\n",
      "[18]\tpart_1-rmse:11.28287\tpart_2-rmse:19.25674\n",
      "[19]\tpart_1-rmse:11.28272\tpart_2-rmse:19.25323\n"
     ]
    },
    {
     "name": "stderr",
     "output_type": "stream",
     "text": [
      "[16:43:47] task [xgboost.dask-0]:tcp://127.0.0.1:63591 got new rank 0\n",
      "[16:43:47] task [xgboost.dask-1]:tcp://127.0.0.1:63590 got new rank 1\n",
      "[16:43:47] task [xgboost.dask-2]:tcp://127.0.0.1:63592 got new rank 2\n",
      "[16:43:47] task [xgboost.dask-3]:tcp://127.0.0.1:63598 got new rank 3\n",
      "[16:43:47] task [xgboost.dask-4]:tcp://127.0.0.1:63599 got new rank 4\n"
     ]
    },
    {
     "name": "stdout",
     "output_type": "stream",
     "text": [
      "[0]\tpart_0-rmse:8.16062\tpart_2-rmse:19.28949\n",
      "[1]\tpart_0-rmse:8.17715\tpart_2-rmse:19.32427\n",
      "[2]\tpart_0-rmse:8.18634\tpart_2-rmse:19.34645\n",
      "[3]\tpart_0-rmse:8.19857\tpart_2-rmse:19.36482\n",
      "[4]\tpart_0-rmse:8.21165\tpart_2-rmse:19.40740\n",
      "[5]\tpart_0-rmse:8.22447\tpart_2-rmse:19.43423\n",
      "[6]\tpart_0-rmse:8.23432\tpart_2-rmse:19.45007\n",
      "[7]\tpart_0-rmse:8.23545\tpart_2-rmse:19.46287\n",
      "[8]\tpart_0-rmse:8.24027\tpart_2-rmse:19.49183\n",
      "[9]\tpart_0-rmse:8.24586\tpart_2-rmse:19.51932\n",
      "[10]\tpart_0-rmse:8.24620\tpart_2-rmse:19.54492\n",
      "[11]\tpart_0-rmse:8.25581\tpart_2-rmse:19.55233\n",
      "[12]\tpart_0-rmse:8.25468\tpart_2-rmse:19.55752\n",
      "[13]\tpart_0-rmse:8.26086\tpart_2-rmse:19.56887\n",
      "[14]\tpart_0-rmse:8.26246\tpart_2-rmse:19.57944\n",
      "[15]\tpart_0-rmse:8.27853\tpart_2-rmse:19.61089\n",
      "[16]\tpart_0-rmse:8.27678\tpart_2-rmse:19.61366\n",
      "[17]\tpart_0-rmse:8.28584\tpart_2-rmse:19.62917\n",
      "[18]\tpart_0-rmse:8.26557\tpart_2-rmse:19.60027\n",
      "[19]\tpart_0-rmse:8.27881\tpart_2-rmse:19.62975\n",
      "[20]\tpart_0-rmse:8.27871\tpart_2-rmse:19.62109\n"
     ]
    },
    {
     "name": "stderr",
     "output_type": "stream",
     "text": [
      "[16:43:49] task [xgboost.dask-0]:tcp://127.0.0.1:63591 got new rank 0\n",
      "[16:43:49] task [xgboost.dask-1]:tcp://127.0.0.1:63590 got new rank 1\n",
      "[16:43:49] task [xgboost.dask-2]:tcp://127.0.0.1:63592 got new rank 2\n",
      "[16:43:49] task [xgboost.dask-3]:tcp://127.0.0.1:63598 got new rank 3\n",
      "[16:43:49] task [xgboost.dask-4]:tcp://127.0.0.1:63599 got new rank 4\n"
     ]
    },
    {
     "name": "stdout",
     "output_type": "stream",
     "text": [
      "[0]\tpart_0-rmse:8.04192\tpart_1-rmse:11.21724\n",
      "[1]\tpart_0-rmse:8.04431\tpart_1-rmse:11.22110\n",
      "[2]\tpart_0-rmse:8.04002\tpart_1-rmse:11.21924\n",
      "[3]\tpart_0-rmse:8.05227\tpart_1-rmse:11.20049\n",
      "[4]\tpart_0-rmse:8.05630\tpart_1-rmse:11.20552\n",
      "[5]\tpart_0-rmse:8.06347\tpart_1-rmse:11.20711\n",
      "[6]\tpart_0-rmse:8.07222\tpart_1-rmse:11.19570\n",
      "[7]\tpart_0-rmse:8.07345\tpart_1-rmse:11.20046\n",
      "[8]\tpart_0-rmse:8.08306\tpart_1-rmse:11.20055\n",
      "[9]\tpart_0-rmse:8.08623\tpart_1-rmse:11.19884\n",
      "[10]\tpart_0-rmse:8.08667\tpart_1-rmse:11.20010\n",
      "[11]\tpart_0-rmse:8.09626\tpart_1-rmse:11.19217\n",
      "[12]\tpart_0-rmse:8.10397\tpart_1-rmse:11.19218\n",
      "[13]\tpart_0-rmse:8.09509\tpart_1-rmse:11.20359\n",
      "[14]\tpart_0-rmse:8.09960\tpart_1-rmse:11.20135\n",
      "[15]\tpart_0-rmse:8.10249\tpart_1-rmse:11.20345\n",
      "[16]\tpart_0-rmse:8.10203\tpart_1-rmse:11.19644\n",
      "[17]\tpart_0-rmse:8.09350\tpart_1-rmse:11.20974\n",
      "[18]\tpart_0-rmse:8.09725\tpart_1-rmse:11.20863\n",
      "[19]\tpart_0-rmse:8.10491\tpart_1-rmse:11.21129\n",
      "[20]\tpart_0-rmse:8.10643\tpart_1-rmse:11.21434\n",
      "[21]\tpart_0-rmse:8.10382\tpart_1-rmse:11.21509\n",
      "[22]\tpart_0-rmse:8.10360\tpart_1-rmse:11.21472\n",
      "[23]\tpart_0-rmse:8.10707\tpart_1-rmse:11.21376\n",
      "[24]\tpart_0-rmse:8.10817\tpart_1-rmse:11.22597\n",
      "[25]\tpart_0-rmse:8.11126\tpart_1-rmse:11.22392\n",
      "[26]\tpart_0-rmse:8.11495\tpart_1-rmse:11.22414\n",
      "[27]\tpart_0-rmse:8.12004\tpart_1-rmse:11.22523\n",
      "[28]\tpart_0-rmse:8.12906\tpart_1-rmse:11.23316\n",
      "[29]\tpart_0-rmse:8.13093\tpart_1-rmse:11.23083\n",
      "[30]\tpart_0-rmse:8.13510\tpart_1-rmse:11.23272\n",
      "[31]\tpart_0-rmse:8.13531\tpart_1-rmse:11.23235\n"
     ]
    },
    {
     "name": "stderr",
     "output_type": "stream",
     "text": [
      "[16:43:52] task [xgboost.dask-0]:tcp://127.0.0.1:63591 got new rank 0\n",
      "[16:43:52] task [xgboost.dask-1]:tcp://127.0.0.1:63590 got new rank 1\n",
      "[16:43:52] task [xgboost.dask-2]:tcp://127.0.0.1:63592 got new rank 2\n",
      "[16:43:52] task [xgboost.dask-3]:tcp://127.0.0.1:63598 got new rank 3\n",
      "[16:43:52] task [xgboost.dask-4]:tcp://127.0.0.1:63599 got new rank 4\n"
     ]
    },
    {
     "name": "stdout",
     "output_type": "stream",
     "text": [
      "[0]\tpart_1-rmse:11.18112\tpart_2-rmse:19.20104\n",
      "[1]\tpart_1-rmse:11.18112\tpart_2-rmse:19.20104\n",
      "[2]\tpart_1-rmse:11.18112\tpart_2-rmse:19.20104\n",
      "[3]\tpart_1-rmse:11.18112\tpart_2-rmse:19.20104\n",
      "[4]\tpart_1-rmse:11.18112\tpart_2-rmse:19.20104\n",
      "[5]\tpart_1-rmse:11.18112\tpart_2-rmse:19.20104\n",
      "[6]\tpart_1-rmse:11.18112\tpart_2-rmse:19.20104\n",
      "[7]\tpart_1-rmse:11.18112\tpart_2-rmse:19.20104\n",
      "[8]\tpart_1-rmse:11.18112\tpart_2-rmse:19.20104\n",
      "[9]\tpart_1-rmse:11.18112\tpart_2-rmse:19.20104\n",
      "[10]\tpart_1-rmse:11.18112\tpart_2-rmse:19.20104\n",
      "[11]\tpart_1-rmse:11.18112\tpart_2-rmse:19.20104\n",
      "[12]\tpart_1-rmse:11.18112\tpart_2-rmse:19.20104\n",
      "[13]\tpart_1-rmse:11.18112\tpart_2-rmse:19.20104\n",
      "[14]\tpart_1-rmse:11.18112\tpart_2-rmse:19.20104\n",
      "[15]\tpart_1-rmse:11.18112\tpart_2-rmse:19.20104\n",
      "[16]\tpart_1-rmse:11.18112\tpart_2-rmse:19.20104\n",
      "[17]\tpart_1-rmse:11.18112\tpart_2-rmse:19.20104\n",
      "[18]\tpart_1-rmse:11.18112\tpart_2-rmse:19.20104\n",
      "[19]\tpart_1-rmse:11.18112\tpart_2-rmse:19.20104\n"
     ]
    },
    {
     "name": "stderr",
     "output_type": "stream",
     "text": [
      "[16:44:41] task [xgboost.dask-0]:tcp://127.0.0.1:63591 got new rank 0\n",
      "[16:44:41] task [xgboost.dask-1]:tcp://127.0.0.1:63590 got new rank 1\n",
      "[16:44:41] task [xgboost.dask-2]:tcp://127.0.0.1:63592 got new rank 2\n",
      "[16:44:41] task [xgboost.dask-3]:tcp://127.0.0.1:63598 got new rank 3\n",
      "[16:44:41] task [xgboost.dask-4]:tcp://127.0.0.1:63599 got new rank 4\n"
     ]
    },
    {
     "name": "stdout",
     "output_type": "stream",
     "text": [
      "[0]\tpart_0-rmse:8.15363\tpart_2-rmse:19.26835\n",
      "[1]\tpart_0-rmse:8.15363\tpart_2-rmse:19.26835\n",
      "[2]\tpart_0-rmse:8.15363\tpart_2-rmse:19.26835\n",
      "[3]\tpart_0-rmse:8.15363\tpart_2-rmse:19.26835\n",
      "[4]\tpart_0-rmse:8.15363\tpart_2-rmse:19.26835\n",
      "[5]\tpart_0-rmse:8.15363\tpart_2-rmse:19.26835\n",
      "[6]\tpart_0-rmse:8.15363\tpart_2-rmse:19.26835\n",
      "[7]\tpart_0-rmse:8.15363\tpart_2-rmse:19.26835\n",
      "[8]\tpart_0-rmse:8.15363\tpart_2-rmse:19.26835\n",
      "[9]\tpart_0-rmse:8.15363\tpart_2-rmse:19.26835\n",
      "[10]\tpart_0-rmse:8.15363\tpart_2-rmse:19.26835\n",
      "[11]\tpart_0-rmse:8.15363\tpart_2-rmse:19.26835\n",
      "[12]\tpart_0-rmse:8.15363\tpart_2-rmse:19.26835\n",
      "[13]\tpart_0-rmse:8.15363\tpart_2-rmse:19.26835\n",
      "[14]\tpart_0-rmse:8.15363\tpart_2-rmse:19.26835\n",
      "[15]\tpart_0-rmse:8.15363\tpart_2-rmse:19.26835\n",
      "[16]\tpart_0-rmse:8.15363\tpart_2-rmse:19.26835\n",
      "[17]\tpart_0-rmse:8.15363\tpart_2-rmse:19.26835\n",
      "[18]\tpart_0-rmse:8.15363\tpart_2-rmse:19.26835\n",
      "[19]\tpart_0-rmse:8.15363\tpart_2-rmse:19.26835\n",
      "[20]\tpart_0-rmse:8.15363\tpart_2-rmse:19.26835\n"
     ]
    },
    {
     "name": "stderr",
     "output_type": "stream",
     "text": [
      "[16:45:40] task [xgboost.dask-0]:tcp://127.0.0.1:63591 got new rank 0\n",
      "[16:45:40] task [xgboost.dask-1]:tcp://127.0.0.1:63590 got new rank 1\n",
      "[16:45:40] task [xgboost.dask-2]:tcp://127.0.0.1:63592 got new rank 2\n",
      "[16:45:40] task [xgboost.dask-3]:tcp://127.0.0.1:63598 got new rank 3\n",
      "[16:45:40] task [xgboost.dask-4]:tcp://127.0.0.1:63599 got new rank 4\n"
     ]
    },
    {
     "name": "stdout",
     "output_type": "stream",
     "text": [
      "[0]\tpart_0-rmse:8.04436\tpart_1-rmse:11.21770\n",
      "[1]\tpart_0-rmse:8.04436\tpart_1-rmse:11.21770\n",
      "[2]\tpart_0-rmse:8.04436\tpart_1-rmse:11.21770\n",
      "[3]\tpart_0-rmse:8.04436\tpart_1-rmse:11.21770\n",
      "[4]\tpart_0-rmse:8.04436\tpart_1-rmse:11.21770\n",
      "[5]\tpart_0-rmse:8.04436\tpart_1-rmse:11.21770\n",
      "[6]\tpart_0-rmse:8.04436\tpart_1-rmse:11.21770\n",
      "[7]\tpart_0-rmse:8.04436\tpart_1-rmse:11.21770\n",
      "[8]\tpart_0-rmse:8.04436\tpart_1-rmse:11.21770\n",
      "[9]\tpart_0-rmse:8.04436\tpart_1-rmse:11.21770\n",
      "[10]\tpart_0-rmse:8.04436\tpart_1-rmse:11.21770\n",
      "[11]\tpart_0-rmse:8.04436\tpart_1-rmse:11.21770\n",
      "[12]\tpart_0-rmse:8.04436\tpart_1-rmse:11.21770\n",
      "[13]\tpart_0-rmse:8.04436\tpart_1-rmse:11.21770\n",
      "[14]\tpart_0-rmse:8.04436\tpart_1-rmse:11.21770\n",
      "[15]\tpart_0-rmse:8.04436\tpart_1-rmse:11.21770\n",
      "[16]\tpart_0-rmse:8.04436\tpart_1-rmse:11.21770\n",
      "[17]\tpart_0-rmse:8.04436\tpart_1-rmse:11.21770\n",
      "[18]\tpart_0-rmse:8.04436\tpart_1-rmse:11.21770\n",
      "[19]\tpart_0-rmse:8.04436\tpart_1-rmse:11.21770\n",
      "[20]\tpart_0-rmse:8.04436\tpart_1-rmse:11.21770\n"
     ]
    },
    {
     "name": "stderr",
     "output_type": "stream",
     "text": [
      "[16:47:13] task [xgboost.dask-0]:tcp://127.0.0.1:63591 got new rank 0\n",
      "[16:47:13] task [xgboost.dask-1]:tcp://127.0.0.1:63590 got new rank 1\n",
      "[16:47:13] task [xgboost.dask-2]:tcp://127.0.0.1:63592 got new rank 2\n",
      "[16:47:13] task [xgboost.dask-3]:tcp://127.0.0.1:63598 got new rank 3\n",
      "[16:47:13] task [xgboost.dask-4]:tcp://127.0.0.1:63599 got new rank 4\n"
     ]
    },
    {
     "name": "stdout",
     "output_type": "stream",
     "text": [
      "[0]\tpart_1-rmse:12.01249\tpart_2-rmse:20.22463\n",
      "[1]\tpart_1-rmse:12.83079\tpart_2-rmse:21.22433\n",
      "[2]\tpart_1-rmse:13.19371\tpart_2-rmse:21.78450\n",
      "[3]\tpart_1-rmse:13.42253\tpart_2-rmse:21.99611\n",
      "[4]\tpart_1-rmse:13.46632\tpart_2-rmse:22.08101\n",
      "[5]\tpart_1-rmse:13.61422\tpart_2-rmse:22.15894\n",
      "[6]\tpart_1-rmse:13.70550\tpart_2-rmse:22.23472\n",
      "[7]\tpart_1-rmse:13.78333\tpart_2-rmse:22.30000\n",
      "[8]\tpart_1-rmse:13.81471\tpart_2-rmse:22.34963\n",
      "[9]\tpart_1-rmse:13.91792\tpart_2-rmse:22.36950\n",
      "[10]\tpart_1-rmse:13.93060\tpart_2-rmse:22.41639\n",
      "[11]\tpart_1-rmse:13.98488\tpart_2-rmse:22.48011\n",
      "[12]\tpart_1-rmse:13.98412\tpart_2-rmse:22.47865\n",
      "[13]\tpart_1-rmse:13.99270\tpart_2-rmse:22.47791\n",
      "[14]\tpart_1-rmse:14.01706\tpart_2-rmse:22.51070\n",
      "[15]\tpart_1-rmse:14.03787\tpart_2-rmse:22.52017\n",
      "[16]\tpart_1-rmse:14.03513\tpart_2-rmse:22.53914\n",
      "[17]\tpart_1-rmse:14.04848\tpart_2-rmse:22.56418\n",
      "[18]\tpart_1-rmse:14.06432\tpart_2-rmse:22.59703\n",
      "[19]\tpart_1-rmse:14.07038\tpart_2-rmse:22.60641\n"
     ]
    },
    {
     "name": "stderr",
     "output_type": "stream",
     "text": [
      "[16:48:01] task [xgboost.dask-0]:tcp://127.0.0.1:63591 got new rank 0\n",
      "[16:48:01] task [xgboost.dask-1]:tcp://127.0.0.1:63590 got new rank 1\n",
      "[16:48:01] task [xgboost.dask-2]:tcp://127.0.0.1:63592 got new rank 2\n",
      "[16:48:01] task [xgboost.dask-3]:tcp://127.0.0.1:63598 got new rank 3\n",
      "[16:48:01] task [xgboost.dask-4]:tcp://127.0.0.1:63599 got new rank 4\n"
     ]
    },
    {
     "name": "stdout",
     "output_type": "stream",
     "text": [
      "[0]\tpart_0-rmse:9.00550\tpart_2-rmse:21.76043\n",
      "[1]\tpart_0-rmse:9.81896\tpart_2-rmse:22.85221\n",
      "[2]\tpart_0-rmse:11.16323\tpart_2-rmse:23.22270\n",
      "[3]\tpart_0-rmse:11.40682\tpart_2-rmse:23.65449\n",
      "[4]\tpart_0-rmse:11.68648\tpart_2-rmse:23.94900\n",
      "[5]\tpart_0-rmse:11.75856\tpart_2-rmse:24.15601\n",
      "[6]\tpart_0-rmse:12.07761\tpart_2-rmse:24.34709\n",
      "[7]\tpart_0-rmse:12.21695\tpart_2-rmse:24.40774\n",
      "[8]\tpart_0-rmse:12.28966\tpart_2-rmse:24.43084\n",
      "[9]\tpart_0-rmse:12.40132\tpart_2-rmse:24.51293\n",
      "[10]\tpart_0-rmse:12.47937\tpart_2-rmse:24.53915\n",
      "[11]\tpart_0-rmse:12.50527\tpart_2-rmse:24.49688\n",
      "[12]\tpart_0-rmse:12.55116\tpart_2-rmse:24.57423\n",
      "[13]\tpart_0-rmse:12.63128\tpart_2-rmse:24.60309\n",
      "[14]\tpart_0-rmse:12.63866\tpart_2-rmse:24.62537\n",
      "[15]\tpart_0-rmse:12.65106\tpart_2-rmse:24.67802\n",
      "[16]\tpart_0-rmse:12.68502\tpart_2-rmse:24.71333\n",
      "[17]\tpart_0-rmse:12.70823\tpart_2-rmse:24.71834\n",
      "[18]\tpart_0-rmse:12.71929\tpart_2-rmse:24.70907\n",
      "[19]\tpart_0-rmse:12.73248\tpart_2-rmse:24.70749\n"
     ]
    },
    {
     "name": "stderr",
     "output_type": "stream",
     "text": [
      "[16:48:53] task [xgboost.dask-0]:tcp://127.0.0.1:63591 got new rank 0\n",
      "[16:48:53] task [xgboost.dask-1]:tcp://127.0.0.1:63590 got new rank 1\n",
      "[16:48:53] task [xgboost.dask-2]:tcp://127.0.0.1:63592 got new rank 2\n",
      "[16:48:53] task [xgboost.dask-3]:tcp://127.0.0.1:63598 got new rank 3\n",
      "[16:48:53] task [xgboost.dask-4]:tcp://127.0.0.1:63599 got new rank 4\n"
     ]
    },
    {
     "name": "stdout",
     "output_type": "stream",
     "text": [
      "[0]\tpart_0-rmse:8.91942\tpart_1-rmse:11.88994\n",
      "[1]\tpart_0-rmse:11.76380\tpart_1-rmse:14.01156\n",
      "[2]\tpart_0-rmse:14.35853\tpart_1-rmse:16.90793\n",
      "[3]\tpart_0-rmse:15.02369\tpart_1-rmse:17.31502\n",
      "[4]\tpart_0-rmse:15.61070\tpart_1-rmse:17.83190\n",
      "[5]\tpart_0-rmse:16.21742\tpart_1-rmse:18.40807\n",
      "[6]\tpart_0-rmse:16.29928\tpart_1-rmse:18.49604\n",
      "[7]\tpart_0-rmse:16.45841\tpart_1-rmse:18.59249\n",
      "[8]\tpart_0-rmse:16.63493\tpart_1-rmse:18.90623\n",
      "[9]\tpart_0-rmse:16.76860\tpart_1-rmse:19.01370\n",
      "[10]\tpart_0-rmse:16.78464\tpart_1-rmse:19.04252\n",
      "[11]\tpart_0-rmse:16.78937\tpart_1-rmse:19.05662\n",
      "[12]\tpart_0-rmse:17.13326\tpart_1-rmse:19.23378\n",
      "[13]\tpart_0-rmse:17.15381\tpart_1-rmse:19.28815\n",
      "[14]\tpart_0-rmse:17.16221\tpart_1-rmse:19.30635\n",
      "[15]\tpart_0-rmse:17.22189\tpart_1-rmse:19.32979\n",
      "[16]\tpart_0-rmse:17.33353\tpart_1-rmse:19.42560\n",
      "[17]\tpart_0-rmse:17.34507\tpart_1-rmse:19.45509\n",
      "[18]\tpart_0-rmse:17.36103\tpart_1-rmse:19.47494\n",
      "[19]\tpart_0-rmse:17.37049\tpart_1-rmse:19.47195\n"
     ]
    },
    {
     "name": "stderr",
     "output_type": "stream",
     "text": [
      "[16:49:34] task [xgboost.dask-0]:tcp://127.0.0.1:63591 got new rank 0\n",
      "[16:49:34] task [xgboost.dask-1]:tcp://127.0.0.1:63590 got new rank 1\n",
      "[16:49:34] task [xgboost.dask-2]:tcp://127.0.0.1:63592 got new rank 2\n",
      "[16:49:34] task [xgboost.dask-3]:tcp://127.0.0.1:63598 got new rank 3\n",
      "[16:49:34] task [xgboost.dask-4]:tcp://127.0.0.1:63599 got new rank 4\n"
     ]
    },
    {
     "name": "stdout",
     "output_type": "stream",
     "text": [
      "[0]\tpart_1-rmse:11.18112\tpart_2-rmse:19.20104\n",
      "[1]\tpart_1-rmse:11.18112\tpart_2-rmse:19.20104\n",
      "[2]\tpart_1-rmse:11.18112\tpart_2-rmse:19.20104\n",
      "[3]\tpart_1-rmse:11.18112\tpart_2-rmse:19.20104\n",
      "[4]\tpart_1-rmse:11.18112\tpart_2-rmse:19.20104\n",
      "[5]\tpart_1-rmse:11.18112\tpart_2-rmse:19.20104\n",
      "[6]\tpart_1-rmse:11.18112\tpart_2-rmse:19.20104\n",
      "[7]\tpart_1-rmse:11.18112\tpart_2-rmse:19.20104\n",
      "[8]\tpart_1-rmse:11.18112\tpart_2-rmse:19.20104\n",
      "[9]\tpart_1-rmse:11.18112\tpart_2-rmse:19.20104\n",
      "[10]\tpart_1-rmse:11.18112\tpart_2-rmse:19.20104\n",
      "[11]\tpart_1-rmse:11.18112\tpart_2-rmse:19.20104\n",
      "[12]\tpart_1-rmse:11.18112\tpart_2-rmse:19.20104\n",
      "[13]\tpart_1-rmse:11.18112\tpart_2-rmse:19.20104\n",
      "[14]\tpart_1-rmse:11.18112\tpart_2-rmse:19.20104\n",
      "[15]\tpart_1-rmse:11.18112\tpart_2-rmse:19.20104\n",
      "[16]\tpart_1-rmse:11.18112\tpart_2-rmse:19.20104\n",
      "[17]\tpart_1-rmse:11.18112\tpart_2-rmse:19.20104\n",
      "[18]\tpart_1-rmse:11.18112\tpart_2-rmse:19.20104\n",
      "[19]\tpart_1-rmse:11.18112\tpart_2-rmse:19.20104\n"
     ]
    },
    {
     "name": "stderr",
     "output_type": "stream",
     "text": [
      "[16:50:15] task [xgboost.dask-0]:tcp://127.0.0.1:63591 got new rank 0\n",
      "[16:50:15] task [xgboost.dask-1]:tcp://127.0.0.1:63590 got new rank 1\n",
      "[16:50:15] task [xgboost.dask-2]:tcp://127.0.0.1:63592 got new rank 2\n",
      "[16:50:15] task [xgboost.dask-3]:tcp://127.0.0.1:63598 got new rank 3\n",
      "[16:50:15] task [xgboost.dask-4]:tcp://127.0.0.1:63599 got new rank 4\n"
     ]
    },
    {
     "name": "stdout",
     "output_type": "stream",
     "text": [
      "[0]\tpart_0-rmse:8.15363\tpart_2-rmse:19.26835\n",
      "[1]\tpart_0-rmse:8.15363\tpart_2-rmse:19.26835\n",
      "[2]\tpart_0-rmse:8.15363\tpart_2-rmse:19.26835\n",
      "[3]\tpart_0-rmse:8.15363\tpart_2-rmse:19.26835\n",
      "[4]\tpart_0-rmse:8.15363\tpart_2-rmse:19.26835\n",
      "[5]\tpart_0-rmse:8.15363\tpart_2-rmse:19.26835\n",
      "[6]\tpart_0-rmse:8.15363\tpart_2-rmse:19.26835\n",
      "[7]\tpart_0-rmse:8.15363\tpart_2-rmse:19.26835\n",
      "[8]\tpart_0-rmse:8.15363\tpart_2-rmse:19.26835\n",
      "[9]\tpart_0-rmse:8.15363\tpart_2-rmse:19.26835\n",
      "[10]\tpart_0-rmse:8.15363\tpart_2-rmse:19.26835\n",
      "[11]\tpart_0-rmse:8.15363\tpart_2-rmse:19.26835\n",
      "[12]\tpart_0-rmse:8.15363\tpart_2-rmse:19.26835\n",
      "[13]\tpart_0-rmse:8.15363\tpart_2-rmse:19.26835\n",
      "[14]\tpart_0-rmse:8.15363\tpart_2-rmse:19.26835\n",
      "[15]\tpart_0-rmse:8.15363\tpart_2-rmse:19.26835\n",
      "[16]\tpart_0-rmse:8.15363\tpart_2-rmse:19.26835\n"
     ]
    },
    {
     "ename": "KeyboardInterrupt",
     "evalue": "",
     "output_type": "error",
     "traceback": [
      "\u001b[0;31m---------------------------------------------------------------------------\u001b[0m",
      "\u001b[0;31mKeyboardInterrupt\u001b[0m                         Traceback (most recent call last)",
      "Cell \u001b[0;32mIn[6], line 11\u001b[0m\n\u001b[1;32m      8\u001b[0m     next_point[gp] \u001b[38;5;241m=\u001b[39m \u001b[38;5;28mint\u001b[39m(next_point[gp])\n\u001b[1;32m      9\u001b[0m \u001b[38;5;66;03m# Evaluate the output of the black_box_function using \u001b[39;00m\n\u001b[1;32m     10\u001b[0m \u001b[38;5;66;03m# the new parameter values.\u001b[39;00m\n\u001b[0;32m---> 11\u001b[0m target \u001b[38;5;241m=\u001b[39m \u001b[43mbbf\u001b[49m\u001b[43m(\u001b[49m\u001b[38;5;241;43m*\u001b[39;49m\u001b[38;5;241;43m*\u001b[39;49m\u001b[43mnext_point\u001b[49m\u001b[43m)\u001b[49m\n\u001b[1;32m     12\u001b[0m \u001b[38;5;28;01mtry\u001b[39;00m:\n\u001b[1;32m     13\u001b[0m     optimizer\u001b[38;5;241m.\u001b[39mregister(params \u001b[38;5;241m=\u001b[39m next_point, target \u001b[38;5;241m=\u001b[39m \u001b[38;5;241m-\u001b[39mtarget)\n",
      "Cell \u001b[0;32mIn[4], line 33\u001b[0m, in \u001b[0;36mBlackBoxFunctor.__call__\u001b[0;34m(self, **kwargs)\u001b[0m\n\u001b[1;32m     31\u001b[0m     evals \u001b[38;5;241m=\u001b[39m \u001b[38;5;28mself\u001b[39m\u001b[38;5;241m.\u001b[39mcv_datasets\u001b[38;5;241m.\u001b[39mcopy()\n\u001b[1;32m     32\u001b[0m     evals\u001b[38;5;241m.\u001b[39mpop(i)\n\u001b[0;32m---> 33\u001b[0m     rmses \u001b[38;5;241m+\u001b[39m\u001b[38;5;241m=\u001b[39m \u001b[38;5;28;43mself\u001b[39;49m\u001b[38;5;241;43m.\u001b[39;49m\u001b[43mtrain_xgboost\u001b[49m\u001b[43m(\u001b[49m\u001b[43mdtrain\u001b[49m\u001b[43m,\u001b[49m\u001b[43mevals\u001b[49m\u001b[43m,\u001b[49m\u001b[38;5;241;43m*\u001b[39;49m\u001b[38;5;241;43m*\u001b[39;49m\u001b[43mkwargs\u001b[49m\u001b[43m)\u001b[49m\n\u001b[1;32m     34\u001b[0m \u001b[38;5;28;01mreturn\u001b[39;00m rmses\u001b[38;5;241m/\u001b[39m\u001b[38;5;28mself\u001b[39m\u001b[38;5;241m.\u001b[39mn_cv\n",
      "Cell \u001b[0;32mIn[4], line 21\u001b[0m, in \u001b[0;36mBlackBoxFunctor.train_xgboost\u001b[0;34m(self, dtrain, eval, **kwargs)\u001b[0m\n\u001b[1;32m     19\u001b[0m params \u001b[38;5;241m=\u001b[39m \u001b[38;5;28mself\u001b[39m\u001b[38;5;241m.\u001b[39mxgb_params\u001b[38;5;241m.\u001b[39mcopy()\n\u001b[1;32m     20\u001b[0m params\u001b[38;5;241m.\u001b[39mupdate(kwargs)\n\u001b[0;32m---> 21\u001b[0m output \u001b[38;5;241m=\u001b[39m \u001b[43mxgb\u001b[49m\u001b[38;5;241;43m.\u001b[39;49m\u001b[43mdask\u001b[49m\u001b[38;5;241;43m.\u001b[39;49m\u001b[43mtrain\u001b[49m\u001b[43m(\u001b[49m\u001b[38;5;28;43mself\u001b[39;49m\u001b[38;5;241;43m.\u001b[39;49m\u001b[43mclient\u001b[49m\u001b[43m,\u001b[49m\u001b[43mparams\u001b[49m\u001b[43m,\u001b[49m\u001b[43mdtrain\u001b[49m\u001b[43m,\u001b[49m\u001b[43mevals\u001b[49m\u001b[38;5;241;43m=\u001b[39;49m\u001b[38;5;28;43meval\u001b[39;49m\u001b[43m,\u001b[49m\u001b[43mnum_boost_round\u001b[49m\u001b[43m \u001b[49m\u001b[38;5;241;43m=\u001b[39;49m\u001b[43m \u001b[49m\u001b[38;5;241;43m1000\u001b[39;49m\u001b[43m,\u001b[49m\u001b[43mearly_stopping_rounds\u001b[49m\u001b[38;5;241;43m=\u001b[39;49m\u001b[38;5;241;43m20\u001b[39;49m\u001b[43m)\u001b[49m\n\u001b[1;32m     22\u001b[0m it \u001b[38;5;241m=\u001b[39m output[\u001b[38;5;124m'\u001b[39m\u001b[38;5;124mbooster\u001b[39m\u001b[38;5;124m'\u001b[39m]\u001b[38;5;241m.\u001b[39mbest_iteration\n\u001b[1;32m     23\u001b[0m rmses \u001b[38;5;241m=\u001b[39m \u001b[38;5;241m0\u001b[39m\n",
      "File \u001b[0;32m~/Documents/clear-street-markets/.env/lib/python3.9/site-packages/xgboost/core.py:730\u001b[0m, in \u001b[0;36mrequire_keyword_args.<locals>.throw_if.<locals>.inner_f\u001b[0;34m(*args, **kwargs)\u001b[0m\n\u001b[1;32m    728\u001b[0m \u001b[38;5;28;01mfor\u001b[39;00m k, arg \u001b[38;5;129;01min\u001b[39;00m \u001b[38;5;28mzip\u001b[39m(sig\u001b[38;5;241m.\u001b[39mparameters, args):\n\u001b[1;32m    729\u001b[0m     kwargs[k] \u001b[38;5;241m=\u001b[39m arg\n\u001b[0;32m--> 730\u001b[0m \u001b[38;5;28;01mreturn\u001b[39;00m \u001b[43mfunc\u001b[49m\u001b[43m(\u001b[49m\u001b[38;5;241;43m*\u001b[39;49m\u001b[38;5;241;43m*\u001b[39;49m\u001b[43mkwargs\u001b[49m\u001b[43m)\u001b[49m\n",
      "File \u001b[0;32m~/Documents/clear-street-markets/.env/lib/python3.9/site-packages/xgboost/dask.py:1078\u001b[0m, in \u001b[0;36mtrain\u001b[0;34m(client, params, dtrain, num_boost_round, evals, obj, feval, early_stopping_rounds, xgb_model, verbose_eval, callbacks, custom_metric)\u001b[0m\n\u001b[1;32m   1076\u001b[0m client \u001b[38;5;241m=\u001b[39m _xgb_get_client(client)\n\u001b[1;32m   1077\u001b[0m args \u001b[38;5;241m=\u001b[39m \u001b[38;5;28mlocals\u001b[39m()\n\u001b[0;32m-> 1078\u001b[0m \u001b[38;5;28;01mreturn\u001b[39;00m \u001b[43mclient\u001b[49m\u001b[38;5;241;43m.\u001b[39;49m\u001b[43msync\u001b[49m\u001b[43m(\u001b[49m\n\u001b[1;32m   1079\u001b[0m \u001b[43m    \u001b[49m\u001b[43m_train_async\u001b[49m\u001b[43m,\u001b[49m\n\u001b[1;32m   1080\u001b[0m \u001b[43m    \u001b[49m\u001b[43mglobal_config\u001b[49m\u001b[38;5;241;43m=\u001b[39;49m\u001b[43mconfig\u001b[49m\u001b[38;5;241;43m.\u001b[39;49m\u001b[43mget_config\u001b[49m\u001b[43m(\u001b[49m\u001b[43m)\u001b[49m\u001b[43m,\u001b[49m\n\u001b[1;32m   1081\u001b[0m \u001b[43m    \u001b[49m\u001b[43mdconfig\u001b[49m\u001b[38;5;241;43m=\u001b[39;49m\u001b[43m_get_dask_config\u001b[49m\u001b[43m(\u001b[49m\u001b[43m)\u001b[49m\u001b[43m,\u001b[49m\n\u001b[1;32m   1082\u001b[0m \u001b[43m    \u001b[49m\u001b[38;5;241;43m*\u001b[39;49m\u001b[38;5;241;43m*\u001b[39;49m\u001b[43margs\u001b[49m\u001b[43m,\u001b[49m\n\u001b[1;32m   1083\u001b[0m \u001b[43m\u001b[49m\u001b[43m)\u001b[49m\n",
      "File \u001b[0;32m~/Documents/clear-street-markets/.env/lib/python3.9/site-packages/distributed/utils.py:358\u001b[0m, in \u001b[0;36mSyncMethodMixin.sync\u001b[0;34m(self, func, asynchronous, callback_timeout, *args, **kwargs)\u001b[0m\n\u001b[1;32m    356\u001b[0m     \u001b[38;5;28;01mreturn\u001b[39;00m future\n\u001b[1;32m    357\u001b[0m \u001b[38;5;28;01melse\u001b[39;00m:\n\u001b[0;32m--> 358\u001b[0m     \u001b[38;5;28;01mreturn\u001b[39;00m \u001b[43msync\u001b[49m\u001b[43m(\u001b[49m\n\u001b[1;32m    359\u001b[0m \u001b[43m        \u001b[49m\u001b[38;5;28;43mself\u001b[39;49m\u001b[38;5;241;43m.\u001b[39;49m\u001b[43mloop\u001b[49m\u001b[43m,\u001b[49m\u001b[43m \u001b[49m\u001b[43mfunc\u001b[49m\u001b[43m,\u001b[49m\u001b[43m \u001b[49m\u001b[38;5;241;43m*\u001b[39;49m\u001b[43margs\u001b[49m\u001b[43m,\u001b[49m\u001b[43m \u001b[49m\u001b[43mcallback_timeout\u001b[49m\u001b[38;5;241;43m=\u001b[39;49m\u001b[43mcallback_timeout\u001b[49m\u001b[43m,\u001b[49m\u001b[43m \u001b[49m\u001b[38;5;241;43m*\u001b[39;49m\u001b[38;5;241;43m*\u001b[39;49m\u001b[43mkwargs\u001b[49m\n\u001b[1;32m    360\u001b[0m \u001b[43m    \u001b[49m\u001b[43m)\u001b[49m\n",
      "File \u001b[0;32m~/Documents/clear-street-markets/.env/lib/python3.9/site-packages/distributed/utils.py:431\u001b[0m, in \u001b[0;36msync\u001b[0;34m(loop, func, callback_timeout, *args, **kwargs)\u001b[0m\n\u001b[1;32m    429\u001b[0m \u001b[38;5;28;01melse\u001b[39;00m:\n\u001b[1;32m    430\u001b[0m     \u001b[38;5;28;01mwhile\u001b[39;00m \u001b[38;5;129;01mnot\u001b[39;00m e\u001b[38;5;241m.\u001b[39mis_set():\n\u001b[0;32m--> 431\u001b[0m         \u001b[43mwait\u001b[49m\u001b[43m(\u001b[49m\u001b[38;5;241;43m10\u001b[39;49m\u001b[43m)\u001b[49m\n\u001b[1;32m    433\u001b[0m \u001b[38;5;28;01mif\u001b[39;00m error \u001b[38;5;129;01mis\u001b[39;00m \u001b[38;5;129;01mnot\u001b[39;00m \u001b[38;5;28;01mNone\u001b[39;00m:\n\u001b[1;32m    434\u001b[0m     \u001b[38;5;28;01mraise\u001b[39;00m error\n",
      "File \u001b[0;32m~/Documents/clear-street-markets/.env/lib/python3.9/site-packages/distributed/utils.py:420\u001b[0m, in \u001b[0;36msync.<locals>.wait\u001b[0;34m(timeout)\u001b[0m\n\u001b[1;32m    418\u001b[0m \u001b[38;5;28;01mdef\u001b[39;00m \u001b[38;5;21mwait\u001b[39m(timeout: \u001b[38;5;28mfloat\u001b[39m \u001b[38;5;241m|\u001b[39m \u001b[38;5;28;01mNone\u001b[39;00m) \u001b[38;5;241m-\u001b[39m\u001b[38;5;241m>\u001b[39m \u001b[38;5;28mbool\u001b[39m:\n\u001b[1;32m    419\u001b[0m     \u001b[38;5;28;01mtry\u001b[39;00m:\n\u001b[0;32m--> 420\u001b[0m         \u001b[38;5;28;01mreturn\u001b[39;00m \u001b[43me\u001b[49m\u001b[38;5;241;43m.\u001b[39;49m\u001b[43mwait\u001b[49m\u001b[43m(\u001b[49m\u001b[43mtimeout\u001b[49m\u001b[43m)\u001b[49m\n\u001b[1;32m    421\u001b[0m     \u001b[38;5;28;01mexcept\u001b[39;00m \u001b[38;5;167;01mKeyboardInterrupt\u001b[39;00m:\n\u001b[1;32m    422\u001b[0m         loop\u001b[38;5;241m.\u001b[39madd_callback(cancel)\n",
      "File \u001b[0;32m~/.pyenv/versions/3.9.18/lib/python3.9/threading.py:581\u001b[0m, in \u001b[0;36mEvent.wait\u001b[0;34m(self, timeout)\u001b[0m\n\u001b[1;32m    579\u001b[0m signaled \u001b[38;5;241m=\u001b[39m \u001b[38;5;28mself\u001b[39m\u001b[38;5;241m.\u001b[39m_flag\n\u001b[1;32m    580\u001b[0m \u001b[38;5;28;01mif\u001b[39;00m \u001b[38;5;129;01mnot\u001b[39;00m signaled:\n\u001b[0;32m--> 581\u001b[0m     signaled \u001b[38;5;241m=\u001b[39m \u001b[38;5;28;43mself\u001b[39;49m\u001b[38;5;241;43m.\u001b[39;49m\u001b[43m_cond\u001b[49m\u001b[38;5;241;43m.\u001b[39;49m\u001b[43mwait\u001b[49m\u001b[43m(\u001b[49m\u001b[43mtimeout\u001b[49m\u001b[43m)\u001b[49m\n\u001b[1;32m    582\u001b[0m \u001b[38;5;28;01mreturn\u001b[39;00m signaled\n",
      "File \u001b[0;32m~/.pyenv/versions/3.9.18/lib/python3.9/threading.py:316\u001b[0m, in \u001b[0;36mCondition.wait\u001b[0;34m(self, timeout)\u001b[0m\n\u001b[1;32m    314\u001b[0m \u001b[38;5;28;01melse\u001b[39;00m:\n\u001b[1;32m    315\u001b[0m     \u001b[38;5;28;01mif\u001b[39;00m timeout \u001b[38;5;241m>\u001b[39m \u001b[38;5;241m0\u001b[39m:\n\u001b[0;32m--> 316\u001b[0m         gotit \u001b[38;5;241m=\u001b[39m \u001b[43mwaiter\u001b[49m\u001b[38;5;241;43m.\u001b[39;49m\u001b[43macquire\u001b[49m\u001b[43m(\u001b[49m\u001b[38;5;28;43;01mTrue\u001b[39;49;00m\u001b[43m,\u001b[49m\u001b[43m \u001b[49m\u001b[43mtimeout\u001b[49m\u001b[43m)\u001b[49m\n\u001b[1;32m    317\u001b[0m     \u001b[38;5;28;01melse\u001b[39;00m:\n\u001b[1;32m    318\u001b[0m         gotit \u001b[38;5;241m=\u001b[39m waiter\u001b[38;5;241m.\u001b[39macquire(\u001b[38;5;28;01mFalse\u001b[39;00m)\n",
      "\u001b[0;31mKeyboardInterrupt\u001b[0m: "
     ]
    },
    {
     "name": "stdout",
     "output_type": "stream",
     "text": [
      "[17]\tpart_0-rmse:8.15363\tpart_2-rmse:19.26835\n",
      "[18]\tpart_0-rmse:8.15363\tpart_2-rmse:19.26835\n",
      "[19]\tpart_0-rmse:8.15363\tpart_2-rmse:19.26835\n"
     ]
    }
   ],
   "source": []
  },
  {
   "cell_type": "code",
   "execution_count": 14,
   "metadata": {},
   "outputs": [
    {
     "ename": "AttributeError",
     "evalue": "'BayesianOptimization' object has no attribute 'min'",
     "output_type": "error",
     "traceback": [
      "\u001b[0;31m---------------------------------------------------------------------------\u001b[0m",
      "\u001b[0;31mAttributeError\u001b[0m                            Traceback (most recent call last)",
      "Cell \u001b[0;32mIn[14], line 1\u001b[0m\n\u001b[0;32m----> 1\u001b[0m \u001b[43moptimizer\u001b[49m\u001b[38;5;241;43m.\u001b[39;49m\u001b[43mmin\u001b[49m\n",
      "\u001b[0;31mAttributeError\u001b[0m: 'BayesianOptimization' object has no attribute 'min'"
     ]
    }
   ],
   "source": [
    "optimizer.min"
   ]
  },
  {
   "cell_type": "code",
   "execution_count": 15,
   "metadata": {},
   "outputs": [
    {
     "data": {
      "text/plain": [
       "array([[ 0.5488135 ,  5.72151493,  8.        ],\n",
       "       [ 0.17787184,  0.05767219,  2.        ],\n",
       "       [ 0.23028885,  7.66013955,  5.        ],\n",
       "       [ 0.5349542 ,  5.67909837,  7.        ],\n",
       "       [ 0.90709003,  4.10595608,  9.        ],\n",
       "       [ 1.        ,  2.63291489, 10.        ],\n",
       "       [ 0.        ,  0.        , 12.        ],\n",
       "       [ 1.        ,  4.01833263, 11.        ],\n",
       "       [ 1.        ,  1.69893035,  8.        ],\n",
       "       [ 0.        ,  2.78698698,  9.        ],\n",
       "       [ 0.84474286,  2.64891669, 10.        ],\n",
       "       [ 0.98800038,  2.29853941,  9.        ],\n",
       "       [ 1.        ,  2.31124058,  9.        ],\n",
       "       [ 0.85609255,  2.15763324,  9.        ],\n",
       "       [ 0.96849975,  2.75634364,  9.        ],\n",
       "       [ 0.16592931,  3.00208368, 10.        ],\n",
       "       [ 0.87420619,  1.45280149,  2.        ],\n",
       "       [ 0.51606439,  7.26152295,  6.        ],\n",
       "       [ 0.99609501,  2.53972302, 10.        ],\n",
       "       [ 0.83499532,  2.36835596,  9.        ],\n",
       "       [ 0.97876849,  2.1641846 ,  8.        ],\n",
       "       [ 1.        ,  2.62339876,  9.        ],\n",
       "       [ 0.92554961,  2.26365372,  9.        ],\n",
       "       [ 0.42493287,  7.81133904,  8.        ],\n",
       "       [ 0.32609914,  1.61724766,  6.        ]])"
      ]
     },
     "execution_count": 15,
     "metadata": {},
     "output_type": "execute_result"
    }
   ],
   "source": [
    "optimizer.space.params"
   ]
  },
  {
   "cell_type": "code",
   "execution_count": null,
   "metadata": {},
   "outputs": [],
   "source": []
  }
 ],
 "metadata": {
  "kernelspec": {
   "display_name": ".env",
   "language": "python",
   "name": "python3"
  },
  "language_info": {
   "codemirror_mode": {
    "name": "ipython",
    "version": 3
   },
   "file_extension": ".py",
   "mimetype": "text/x-python",
   "name": "python",
   "nbconvert_exporter": "python",
   "pygments_lexer": "ipython3",
   "version": "3.9.18"
  }
 },
 "nbformat": 4,
 "nbformat_minor": 2
}
